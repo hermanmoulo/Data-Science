{
 "cells": [
  {
   "cell_type": "markdown",
   "id": "55230051",
   "metadata": {
    "papermill": {
     "duration": 0.042567,
     "end_time": "2022-02-14T10:40:18.920724",
     "exception": false,
     "start_time": "2022-02-14T10:40:18.878157",
     "status": "completed"
    },
    "tags": []
   },
   "source": [
    "## Librairies et fonctions utiles "
   ]
  },
  {
   "cell_type": "markdown",
   "id": "539a377f",
   "metadata": {
    "papermill": {
     "duration": 0.060681,
     "end_time": "2022-02-14T10:40:19.043444",
     "exception": false,
     "start_time": "2022-02-14T10:40:18.982763",
     "status": "completed"
    },
    "tags": []
   },
   "source": [
    "Nous allons prédire la fraude à la carte bancaire à partir des différentes valeurs du dataset. Ces données contiennent les transactions effectuées par carte de crédit en septembre 2013 par les détenteurs de cartes européennes. Cet ensemble de données présente les transactions qui ont eu lieu en deux jours, où nous avons 492 fraudes sur 284 807 transactions. L'ensemble de données est très déséquilibré, la classe positive (fraudes) représente 0,172 % de toutes les transactions.\n",
    "\n",
    "Il ne contient que des variables d'entrée numériques qui sont le résultat d'une transformation ACP (analyse en composantes principales - une méthode de réduction de dimension). Malheureusement, pour des raisons de confidentialité, nous ne pouvons pas fournir les caractéristiques originales et plus d'informations sur le contexte des données. "
   ]
  },
  {
   "cell_type": "code",
   "execution_count": 1,
   "id": "d40624bf",
   "metadata": {
    "_cell_guid": "b1076dfc-b9ad-4769-8c92-a6c4dae69d19",
    "_uuid": "8f2839f25d086af736a60e9eeb907d3b93b6e0e5",
    "execution": {
     "iopub.execute_input": "2022-02-14T10:40:19.137935Z",
     "iopub.status.busy": "2022-02-14T10:40:19.137057Z",
     "iopub.status.idle": "2022-02-14T10:40:20.159465Z",
     "shell.execute_reply": "2022-02-14T10:40:20.159933Z",
     "shell.execute_reply.started": "2022-02-13T23:28:16.756803Z"
    },
    "papermill": {
     "duration": 1.076139,
     "end_time": "2022-02-14T10:40:20.160190",
     "exception": false,
     "start_time": "2022-02-14T10:40:19.084051",
     "status": "completed"
    },
    "tags": []
   },
   "outputs": [],
   "source": [
    "import pandas as pd\n",
    "import numpy as np\n",
    "from matplotlib import pyplot as plt\n",
    "import seaborn as sns\n",
    "\n",
    "from sklearn import metrics\n",
    "from sklearn import preprocessing\n",
    "from sklearn import model_selection\n",
    "from sklearn.metrics import classification_report, confusion_matrix, roc_curve, roc_auc_score,auc, accuracy_score\n",
    "\n",
    "from sklearn.linear_model import LogisticRegression\n",
    "\n",
    "from sklearn.model_selection import train_test_split\n",
    "\n",
    "from IPython.core.display import HTML # permet d'afficher du code html dans jupyter"
   ]
  },
  {
   "cell_type": "markdown",
   "id": "7d970ea8",
   "metadata": {
    "papermill": {
     "duration": 0.040444,
     "end_time": "2022-02-14T10:40:20.241354",
     "exception": false,
     "start_time": "2022-02-14T10:40:20.200910",
     "status": "completed"
    },
    "tags": []
   },
   "source": [
    "Fonction pour standardiser les données quantitatives (cont_feat est une liste des colonnes correspondant à des caractéristiques quantitatives) :"
   ]
  },
  {
   "cell_type": "code",
   "execution_count": 2,
   "id": "9a87bf51",
   "metadata": {
    "execution": {
     "iopub.execute_input": "2022-02-14T10:40:20.328480Z",
     "iopub.status.busy": "2022-02-14T10:40:20.327616Z",
     "iopub.status.idle": "2022-02-14T10:40:20.329497Z",
     "shell.execute_reply": "2022-02-14T10:40:20.329941Z",
     "shell.execute_reply.started": "2022-02-13T23:28:16.767199Z"
    },
    "papermill": {
     "duration": 0.048586,
     "end_time": "2022-02-14T10:40:20.330071",
     "exception": false,
     "start_time": "2022-02-14T10:40:20.281485",
     "status": "completed"
    },
    "tags": []
   },
   "outputs": [],
   "source": [
    "def scale_feat(df,cont_feat) :\n",
    "    df1=df\n",
    "    scaler = preprocessing.RobustScaler()\n",
    "    df1[cont_feat] = scaler.fit_transform(df1[cont_feat])\n",
    "    return df1"
   ]
  },
  {
   "cell_type": "markdown",
   "id": "87d4708e",
   "metadata": {
    "papermill": {
     "duration": 0.040019,
     "end_time": "2022-02-14T10:40:20.411738",
     "exception": false,
     "start_time": "2022-02-14T10:40:20.371719",
     "status": "completed"
    },
    "tags": []
   },
   "source": [
    "Fonction pour tracer les courbes d'apprentissage sur l'ensemble d'apprentissage et l'ensemble de validation :"
   ]
  },
  {
   "cell_type": "markdown",
   "id": "3507ceda",
   "metadata": {
    "papermill": {
     "duration": 0.039761,
     "end_time": "2022-02-14T10:40:20.491813",
     "exception": false,
     "start_time": "2022-02-14T10:40:20.452052",
     "status": "completed"
    },
    "tags": []
   },
   "source": [
    "Fonction pour tracer la courbe ROC :"
   ]
  },
  {
   "cell_type": "code",
   "execution_count": 3,
   "id": "cdecf804",
   "metadata": {
    "execution": {
     "iopub.execute_input": "2022-02-14T10:40:20.655378Z",
     "iopub.status.busy": "2022-02-14T10:40:20.654796Z",
     "iopub.status.idle": "2022-02-14T10:40:20.664425Z",
     "shell.execute_reply": "2022-02-14T10:40:20.664881Z",
     "shell.execute_reply.started": "2022-02-13T23:28:16.776446Z"
    },
    "papermill": {
     "duration": 0.111626,
     "end_time": "2022-02-14T10:40:20.665037",
     "exception": false,
     "start_time": "2022-02-14T10:40:20.553411",
     "status": "completed"
    },
    "tags": []
   },
   "outputs": [],
   "source": [
    "def plot_roc_curve(est,X_test,y_test) :\n",
    "    probas = est.predict_proba(X_test)\n",
    "    false_positive_rate, true_positive_rate, thresholds = roc_curve(y_test,probas[:, 1])\n",
    "    roc_auc = auc(false_positive_rate, true_positive_rate)\n",
    "    plt.figure(figsize=(8,8))\n",
    "    plt.title('Receiver Operating Characteristic')\n",
    "    plt.plot(false_positive_rate, true_positive_rate, 'b', label='AUC = %0.2f'% roc_auc)\n",
    "    plt.legend(loc='lower right')\n",
    "    plt.plot([0,1],[0,1],'r--')        # plus mauvaise courbe\n",
    "    plt.plot([0,0,1],[0,1,1],'g:')     # meilleure courbe\n",
    "    plt.xlim([-0.05,1.2])\n",
    "    plt.ylim([-0.05,1.2])\n",
    "    plt.ylabel('Taux de vrais positifs')\n",
    "    plt.xlabel('Taux de faux positifs')\n",
    "    plt.show"
   ]
  },
  {
   "cell_type": "markdown",
   "id": "a15ddc6d",
   "metadata": {
    "papermill": {
     "duration": 0.069429,
     "end_time": "2022-02-14T10:40:20.803592",
     "exception": false,
     "start_time": "2022-02-14T10:40:20.734163",
     "status": "completed"
    },
    "tags": []
   },
   "source": [
    "## Traitement du dataset "
   ]
  },
  {
   "cell_type": "code",
   "execution_count": 4,
   "id": "a505ec69",
   "metadata": {
    "execution": {
     "iopub.execute_input": "2022-02-14T10:40:20.942757Z",
     "iopub.status.busy": "2022-02-14T10:40:20.941867Z",
     "iopub.status.idle": "2022-02-14T10:40:24.307726Z",
     "shell.execute_reply": "2022-02-14T10:40:24.307208Z",
     "shell.execute_reply.started": "2022-02-13T23:28:16.788740Z"
    },
    "papermill": {
     "duration": 3.436199,
     "end_time": "2022-02-14T10:40:24.307865",
     "exception": false,
     "start_time": "2022-02-14T10:40:20.871666",
     "status": "completed"
    },
    "tags": []
   },
   "outputs": [],
   "source": [
    "df = pd.read_csv(\"../input/creditcardfraud/creditcard.csv\")"
   ]
  },
  {
   "cell_type": "code",
   "execution_count": 5,
   "id": "64d58533",
   "metadata": {
    "execution": {
     "iopub.execute_input": "2022-02-14T10:40:24.401749Z",
     "iopub.status.busy": "2022-02-14T10:40:24.400918Z",
     "iopub.status.idle": "2022-02-14T10:40:24.417117Z",
     "shell.execute_reply": "2022-02-14T10:40:24.417553Z",
     "shell.execute_reply.started": "2022-02-13T23:28:18.643210Z"
    },
    "papermill": {
     "duration": 0.068942,
     "end_time": "2022-02-14T10:40:24.417690",
     "exception": false,
     "start_time": "2022-02-14T10:40:24.348748",
     "status": "completed"
    },
    "tags": []
   },
   "outputs": [
    {
     "data": {
      "text/html": [
       "<div>\n",
       "<style scoped>\n",
       "    .dataframe tbody tr th:only-of-type {\n",
       "        vertical-align: middle;\n",
       "    }\n",
       "\n",
       "    .dataframe tbody tr th {\n",
       "        vertical-align: top;\n",
       "    }\n",
       "\n",
       "    .dataframe thead th {\n",
       "        text-align: right;\n",
       "    }\n",
       "</style>\n",
       "<table border=\"1\" class=\"dataframe\">\n",
       "  <thead>\n",
       "    <tr style=\"text-align: right;\">\n",
       "      <th></th>\n",
       "      <th>0</th>\n",
       "      <th>1</th>\n",
       "      <th>2</th>\n",
       "      <th>3</th>\n",
       "      <th>4</th>\n",
       "    </tr>\n",
       "  </thead>\n",
       "  <tbody>\n",
       "    <tr>\n",
       "      <th>Time</th>\n",
       "      <td>0.000000</td>\n",
       "      <td>0.000000</td>\n",
       "      <td>1.000000</td>\n",
       "      <td>1.000000</td>\n",
       "      <td>2.000000</td>\n",
       "    </tr>\n",
       "    <tr>\n",
       "      <th>V1</th>\n",
       "      <td>-1.359807</td>\n",
       "      <td>1.191857</td>\n",
       "      <td>-1.358354</td>\n",
       "      <td>-0.966272</td>\n",
       "      <td>-1.158233</td>\n",
       "    </tr>\n",
       "    <tr>\n",
       "      <th>V2</th>\n",
       "      <td>-0.072781</td>\n",
       "      <td>0.266151</td>\n",
       "      <td>-1.340163</td>\n",
       "      <td>-0.185226</td>\n",
       "      <td>0.877737</td>\n",
       "    </tr>\n",
       "    <tr>\n",
       "      <th>V3</th>\n",
       "      <td>2.536347</td>\n",
       "      <td>0.166480</td>\n",
       "      <td>1.773209</td>\n",
       "      <td>1.792993</td>\n",
       "      <td>1.548718</td>\n",
       "    </tr>\n",
       "    <tr>\n",
       "      <th>V4</th>\n",
       "      <td>1.378155</td>\n",
       "      <td>0.448154</td>\n",
       "      <td>0.379780</td>\n",
       "      <td>-0.863291</td>\n",
       "      <td>0.403034</td>\n",
       "    </tr>\n",
       "    <tr>\n",
       "      <th>V5</th>\n",
       "      <td>-0.338321</td>\n",
       "      <td>0.060018</td>\n",
       "      <td>-0.503198</td>\n",
       "      <td>-0.010309</td>\n",
       "      <td>-0.407193</td>\n",
       "    </tr>\n",
       "    <tr>\n",
       "      <th>V6</th>\n",
       "      <td>0.462388</td>\n",
       "      <td>-0.082361</td>\n",
       "      <td>1.800499</td>\n",
       "      <td>1.247203</td>\n",
       "      <td>0.095921</td>\n",
       "    </tr>\n",
       "    <tr>\n",
       "      <th>V7</th>\n",
       "      <td>0.239599</td>\n",
       "      <td>-0.078803</td>\n",
       "      <td>0.791461</td>\n",
       "      <td>0.237609</td>\n",
       "      <td>0.592941</td>\n",
       "    </tr>\n",
       "    <tr>\n",
       "      <th>V8</th>\n",
       "      <td>0.098698</td>\n",
       "      <td>0.085102</td>\n",
       "      <td>0.247676</td>\n",
       "      <td>0.377436</td>\n",
       "      <td>-0.270533</td>\n",
       "    </tr>\n",
       "    <tr>\n",
       "      <th>V9</th>\n",
       "      <td>0.363787</td>\n",
       "      <td>-0.255425</td>\n",
       "      <td>-1.514654</td>\n",
       "      <td>-1.387024</td>\n",
       "      <td>0.817739</td>\n",
       "    </tr>\n",
       "    <tr>\n",
       "      <th>V10</th>\n",
       "      <td>0.090794</td>\n",
       "      <td>-0.166974</td>\n",
       "      <td>0.207643</td>\n",
       "      <td>-0.054952</td>\n",
       "      <td>0.753074</td>\n",
       "    </tr>\n",
       "    <tr>\n",
       "      <th>V11</th>\n",
       "      <td>-0.551600</td>\n",
       "      <td>1.612727</td>\n",
       "      <td>0.624501</td>\n",
       "      <td>-0.226487</td>\n",
       "      <td>-0.822843</td>\n",
       "    </tr>\n",
       "    <tr>\n",
       "      <th>V12</th>\n",
       "      <td>-0.617801</td>\n",
       "      <td>1.065235</td>\n",
       "      <td>0.066084</td>\n",
       "      <td>0.178228</td>\n",
       "      <td>0.538196</td>\n",
       "    </tr>\n",
       "    <tr>\n",
       "      <th>V13</th>\n",
       "      <td>-0.991390</td>\n",
       "      <td>0.489095</td>\n",
       "      <td>0.717293</td>\n",
       "      <td>0.507757</td>\n",
       "      <td>1.345852</td>\n",
       "    </tr>\n",
       "    <tr>\n",
       "      <th>V14</th>\n",
       "      <td>-0.311169</td>\n",
       "      <td>-0.143772</td>\n",
       "      <td>-0.165946</td>\n",
       "      <td>-0.287924</td>\n",
       "      <td>-1.119670</td>\n",
       "    </tr>\n",
       "    <tr>\n",
       "      <th>V15</th>\n",
       "      <td>1.468177</td>\n",
       "      <td>0.635558</td>\n",
       "      <td>2.345865</td>\n",
       "      <td>-0.631418</td>\n",
       "      <td>0.175121</td>\n",
       "    </tr>\n",
       "    <tr>\n",
       "      <th>V16</th>\n",
       "      <td>-0.470401</td>\n",
       "      <td>0.463917</td>\n",
       "      <td>-2.890083</td>\n",
       "      <td>-1.059647</td>\n",
       "      <td>-0.451449</td>\n",
       "    </tr>\n",
       "    <tr>\n",
       "      <th>V17</th>\n",
       "      <td>0.207971</td>\n",
       "      <td>-0.114805</td>\n",
       "      <td>1.109969</td>\n",
       "      <td>-0.684093</td>\n",
       "      <td>-0.237033</td>\n",
       "    </tr>\n",
       "    <tr>\n",
       "      <th>V18</th>\n",
       "      <td>0.025791</td>\n",
       "      <td>-0.183361</td>\n",
       "      <td>-0.121359</td>\n",
       "      <td>1.965775</td>\n",
       "      <td>-0.038195</td>\n",
       "    </tr>\n",
       "    <tr>\n",
       "      <th>V19</th>\n",
       "      <td>0.403993</td>\n",
       "      <td>-0.145783</td>\n",
       "      <td>-2.261857</td>\n",
       "      <td>-1.232622</td>\n",
       "      <td>0.803487</td>\n",
       "    </tr>\n",
       "    <tr>\n",
       "      <th>V20</th>\n",
       "      <td>0.251412</td>\n",
       "      <td>-0.069083</td>\n",
       "      <td>0.524980</td>\n",
       "      <td>-0.208038</td>\n",
       "      <td>0.408542</td>\n",
       "    </tr>\n",
       "    <tr>\n",
       "      <th>V21</th>\n",
       "      <td>-0.018307</td>\n",
       "      <td>-0.225775</td>\n",
       "      <td>0.247998</td>\n",
       "      <td>-0.108300</td>\n",
       "      <td>-0.009431</td>\n",
       "    </tr>\n",
       "    <tr>\n",
       "      <th>V22</th>\n",
       "      <td>0.277838</td>\n",
       "      <td>-0.638672</td>\n",
       "      <td>0.771679</td>\n",
       "      <td>0.005274</td>\n",
       "      <td>0.798278</td>\n",
       "    </tr>\n",
       "    <tr>\n",
       "      <th>V23</th>\n",
       "      <td>-0.110474</td>\n",
       "      <td>0.101288</td>\n",
       "      <td>0.909412</td>\n",
       "      <td>-0.190321</td>\n",
       "      <td>-0.137458</td>\n",
       "    </tr>\n",
       "    <tr>\n",
       "      <th>V24</th>\n",
       "      <td>0.066928</td>\n",
       "      <td>-0.339846</td>\n",
       "      <td>-0.689281</td>\n",
       "      <td>-1.175575</td>\n",
       "      <td>0.141267</td>\n",
       "    </tr>\n",
       "    <tr>\n",
       "      <th>V25</th>\n",
       "      <td>0.128539</td>\n",
       "      <td>0.167170</td>\n",
       "      <td>-0.327642</td>\n",
       "      <td>0.647376</td>\n",
       "      <td>-0.206010</td>\n",
       "    </tr>\n",
       "    <tr>\n",
       "      <th>V26</th>\n",
       "      <td>-0.189115</td>\n",
       "      <td>0.125895</td>\n",
       "      <td>-0.139097</td>\n",
       "      <td>-0.221929</td>\n",
       "      <td>0.502292</td>\n",
       "    </tr>\n",
       "    <tr>\n",
       "      <th>V27</th>\n",
       "      <td>0.133558</td>\n",
       "      <td>-0.008983</td>\n",
       "      <td>-0.055353</td>\n",
       "      <td>0.062723</td>\n",
       "      <td>0.219422</td>\n",
       "    </tr>\n",
       "    <tr>\n",
       "      <th>V28</th>\n",
       "      <td>-0.021053</td>\n",
       "      <td>0.014724</td>\n",
       "      <td>-0.059752</td>\n",
       "      <td>0.061458</td>\n",
       "      <td>0.215153</td>\n",
       "    </tr>\n",
       "    <tr>\n",
       "      <th>Amount</th>\n",
       "      <td>149.620000</td>\n",
       "      <td>2.690000</td>\n",
       "      <td>378.660000</td>\n",
       "      <td>123.500000</td>\n",
       "      <td>69.990000</td>\n",
       "    </tr>\n",
       "    <tr>\n",
       "      <th>Class</th>\n",
       "      <td>0.000000</td>\n",
       "      <td>0.000000</td>\n",
       "      <td>0.000000</td>\n",
       "      <td>0.000000</td>\n",
       "      <td>0.000000</td>\n",
       "    </tr>\n",
       "  </tbody>\n",
       "</table>\n",
       "</div>"
      ],
      "text/plain": [
       "                 0         1           2           3          4\n",
       "Time      0.000000  0.000000    1.000000    1.000000   2.000000\n",
       "V1       -1.359807  1.191857   -1.358354   -0.966272  -1.158233\n",
       "V2       -0.072781  0.266151   -1.340163   -0.185226   0.877737\n",
       "V3        2.536347  0.166480    1.773209    1.792993   1.548718\n",
       "V4        1.378155  0.448154    0.379780   -0.863291   0.403034\n",
       "V5       -0.338321  0.060018   -0.503198   -0.010309  -0.407193\n",
       "V6        0.462388 -0.082361    1.800499    1.247203   0.095921\n",
       "V7        0.239599 -0.078803    0.791461    0.237609   0.592941\n",
       "V8        0.098698  0.085102    0.247676    0.377436  -0.270533\n",
       "V9        0.363787 -0.255425   -1.514654   -1.387024   0.817739\n",
       "V10       0.090794 -0.166974    0.207643   -0.054952   0.753074\n",
       "V11      -0.551600  1.612727    0.624501   -0.226487  -0.822843\n",
       "V12      -0.617801  1.065235    0.066084    0.178228   0.538196\n",
       "V13      -0.991390  0.489095    0.717293    0.507757   1.345852\n",
       "V14      -0.311169 -0.143772   -0.165946   -0.287924  -1.119670\n",
       "V15       1.468177  0.635558    2.345865   -0.631418   0.175121\n",
       "V16      -0.470401  0.463917   -2.890083   -1.059647  -0.451449\n",
       "V17       0.207971 -0.114805    1.109969   -0.684093  -0.237033\n",
       "V18       0.025791 -0.183361   -0.121359    1.965775  -0.038195\n",
       "V19       0.403993 -0.145783   -2.261857   -1.232622   0.803487\n",
       "V20       0.251412 -0.069083    0.524980   -0.208038   0.408542\n",
       "V21      -0.018307 -0.225775    0.247998   -0.108300  -0.009431\n",
       "V22       0.277838 -0.638672    0.771679    0.005274   0.798278\n",
       "V23      -0.110474  0.101288    0.909412   -0.190321  -0.137458\n",
       "V24       0.066928 -0.339846   -0.689281   -1.175575   0.141267\n",
       "V25       0.128539  0.167170   -0.327642    0.647376  -0.206010\n",
       "V26      -0.189115  0.125895   -0.139097   -0.221929   0.502292\n",
       "V27       0.133558 -0.008983   -0.055353    0.062723   0.219422\n",
       "V28      -0.021053  0.014724   -0.059752    0.061458   0.215153\n",
       "Amount  149.620000  2.690000  378.660000  123.500000  69.990000\n",
       "Class     0.000000  0.000000    0.000000    0.000000   0.000000"
      ]
     },
     "execution_count": 5,
     "metadata": {},
     "output_type": "execute_result"
    }
   ],
   "source": [
    "df.head().T"
   ]
  },
  {
   "cell_type": "code",
   "execution_count": 6,
   "id": "1d4b950d",
   "metadata": {
    "execution": {
     "iopub.execute_input": "2022-02-14T10:40:24.504382Z",
     "iopub.status.busy": "2022-02-14T10:40:24.503592Z",
     "iopub.status.idle": "2022-02-14T10:40:24.533997Z",
     "shell.execute_reply": "2022-02-14T10:40:24.533392Z",
     "shell.execute_reply.started": "2022-02-13T23:28:18.668092Z"
    },
    "papermill": {
     "duration": 0.075127,
     "end_time": "2022-02-14T10:40:24.534136",
     "exception": false,
     "start_time": "2022-02-14T10:40:24.459009",
     "status": "completed"
    },
    "tags": []
   },
   "outputs": [
    {
     "data": {
      "text/plain": [
       "Time      284807\n",
       "V1        284807\n",
       "V2        284807\n",
       "V3        284807\n",
       "V4        284807\n",
       "V5        284807\n",
       "V6        284807\n",
       "V7        284807\n",
       "V8        284807\n",
       "V9        284807\n",
       "V10       284807\n",
       "V11       284807\n",
       "V12       284807\n",
       "V13       284807\n",
       "V14       284807\n",
       "V15       284807\n",
       "V16       284807\n",
       "V17       284807\n",
       "V18       284807\n",
       "V19       284807\n",
       "V20       284807\n",
       "V21       284807\n",
       "V22       284807\n",
       "V23       284807\n",
       "V24       284807\n",
       "V25       284807\n",
       "V26       284807\n",
       "V27       284807\n",
       "V28       284807\n",
       "Amount    284807\n",
       "Class     284807\n",
       "dtype: int64"
      ]
     },
     "execution_count": 6,
     "metadata": {},
     "output_type": "execute_result"
    }
   ],
   "source": [
    "df.count()"
   ]
  },
  {
   "cell_type": "code",
   "execution_count": 7,
   "id": "469fe06e",
   "metadata": {
    "execution": {
     "iopub.execute_input": "2022-02-14T10:40:24.621709Z",
     "iopub.status.busy": "2022-02-14T10:40:24.620926Z",
     "iopub.status.idle": "2022-02-14T10:40:24.660099Z",
     "shell.execute_reply": "2022-02-14T10:40:24.659575Z",
     "shell.execute_reply.started": "2022-02-13T23:28:18.699796Z"
    },
    "papermill": {
     "duration": 0.084124,
     "end_time": "2022-02-14T10:40:24.660214",
     "exception": false,
     "start_time": "2022-02-14T10:40:24.576090",
     "status": "completed"
    },
    "tags": []
   },
   "outputs": [
    {
     "name": "stdout",
     "output_type": "stream",
     "text": [
      "<class 'pandas.core.frame.DataFrame'>\n",
      "RangeIndex: 284807 entries, 0 to 284806\n",
      "Data columns (total 31 columns):\n",
      " #   Column  Non-Null Count   Dtype  \n",
      "---  ------  --------------   -----  \n",
      " 0   Time    284807 non-null  float64\n",
      " 1   V1      284807 non-null  float64\n",
      " 2   V2      284807 non-null  float64\n",
      " 3   V3      284807 non-null  float64\n",
      " 4   V4      284807 non-null  float64\n",
      " 5   V5      284807 non-null  float64\n",
      " 6   V6      284807 non-null  float64\n",
      " 7   V7      284807 non-null  float64\n",
      " 8   V8      284807 non-null  float64\n",
      " 9   V9      284807 non-null  float64\n",
      " 10  V10     284807 non-null  float64\n",
      " 11  V11     284807 non-null  float64\n",
      " 12  V12     284807 non-null  float64\n",
      " 13  V13     284807 non-null  float64\n",
      " 14  V14     284807 non-null  float64\n",
      " 15  V15     284807 non-null  float64\n",
      " 16  V16     284807 non-null  float64\n",
      " 17  V17     284807 non-null  float64\n",
      " 18  V18     284807 non-null  float64\n",
      " 19  V19     284807 non-null  float64\n",
      " 20  V20     284807 non-null  float64\n",
      " 21  V21     284807 non-null  float64\n",
      " 22  V22     284807 non-null  float64\n",
      " 23  V23     284807 non-null  float64\n",
      " 24  V24     284807 non-null  float64\n",
      " 25  V25     284807 non-null  float64\n",
      " 26  V26     284807 non-null  float64\n",
      " 27  V27     284807 non-null  float64\n",
      " 28  V28     284807 non-null  float64\n",
      " 29  Amount  284807 non-null  float64\n",
      " 30  Class   284807 non-null  int64  \n",
      "dtypes: float64(30), int64(1)\n",
      "memory usage: 67.4 MB\n"
     ]
    }
   ],
   "source": [
    "df.info()"
   ]
  },
  {
   "cell_type": "code",
   "execution_count": 8,
   "id": "3c782624",
   "metadata": {
    "execution": {
     "iopub.execute_input": "2022-02-14T10:40:24.773775Z",
     "iopub.status.busy": "2022-02-14T10:40:24.772861Z",
     "iopub.status.idle": "2022-02-14T10:40:25.095340Z",
     "shell.execute_reply": "2022-02-14T10:40:25.095761Z",
     "shell.execute_reply.started": "2022-02-13T23:28:18.731567Z"
    },
    "papermill": {
     "duration": 0.393831,
     "end_time": "2022-02-14T10:40:25.095913",
     "exception": false,
     "start_time": "2022-02-14T10:40:24.702082",
     "status": "completed"
    },
    "tags": []
   },
   "outputs": [
    {
     "data": {
      "text/html": [
       "<div>\n",
       "<style scoped>\n",
       "    .dataframe tbody tr th:only-of-type {\n",
       "        vertical-align: middle;\n",
       "    }\n",
       "\n",
       "    .dataframe tbody tr th {\n",
       "        vertical-align: top;\n",
       "    }\n",
       "\n",
       "    .dataframe thead th {\n",
       "        text-align: right;\n",
       "    }\n",
       "</style>\n",
       "<table border=\"1\" class=\"dataframe\">\n",
       "  <thead>\n",
       "    <tr style=\"text-align: right;\">\n",
       "      <th></th>\n",
       "      <th>Time</th>\n",
       "      <th>V1</th>\n",
       "      <th>V2</th>\n",
       "      <th>V3</th>\n",
       "      <th>V4</th>\n",
       "      <th>V5</th>\n",
       "      <th>V6</th>\n",
       "      <th>V7</th>\n",
       "      <th>V8</th>\n",
       "      <th>V9</th>\n",
       "      <th>...</th>\n",
       "      <th>V21</th>\n",
       "      <th>V22</th>\n",
       "      <th>V23</th>\n",
       "      <th>V24</th>\n",
       "      <th>V25</th>\n",
       "      <th>V26</th>\n",
       "      <th>V27</th>\n",
       "      <th>V28</th>\n",
       "      <th>Amount</th>\n",
       "      <th>Class</th>\n",
       "    </tr>\n",
       "  </thead>\n",
       "  <tbody>\n",
       "    <tr>\n",
       "      <th>count</th>\n",
       "      <td>284807.000000</td>\n",
       "      <td>2.848070e+05</td>\n",
       "      <td>2.848070e+05</td>\n",
       "      <td>2.848070e+05</td>\n",
       "      <td>2.848070e+05</td>\n",
       "      <td>2.848070e+05</td>\n",
       "      <td>2.848070e+05</td>\n",
       "      <td>2.848070e+05</td>\n",
       "      <td>2.848070e+05</td>\n",
       "      <td>2.848070e+05</td>\n",
       "      <td>...</td>\n",
       "      <td>2.848070e+05</td>\n",
       "      <td>2.848070e+05</td>\n",
       "      <td>2.848070e+05</td>\n",
       "      <td>2.848070e+05</td>\n",
       "      <td>2.848070e+05</td>\n",
       "      <td>2.848070e+05</td>\n",
       "      <td>2.848070e+05</td>\n",
       "      <td>2.848070e+05</td>\n",
       "      <td>284807.000000</td>\n",
       "      <td>284807.000000</td>\n",
       "    </tr>\n",
       "    <tr>\n",
       "      <th>mean</th>\n",
       "      <td>94813.859575</td>\n",
       "      <td>3.918649e-15</td>\n",
       "      <td>5.682686e-16</td>\n",
       "      <td>-8.761736e-15</td>\n",
       "      <td>2.811118e-15</td>\n",
       "      <td>-1.552103e-15</td>\n",
       "      <td>2.040130e-15</td>\n",
       "      <td>-1.698953e-15</td>\n",
       "      <td>-1.893285e-16</td>\n",
       "      <td>-3.147640e-15</td>\n",
       "      <td>...</td>\n",
       "      <td>1.473120e-16</td>\n",
       "      <td>8.042109e-16</td>\n",
       "      <td>5.282512e-16</td>\n",
       "      <td>4.456271e-15</td>\n",
       "      <td>1.426896e-15</td>\n",
       "      <td>1.701640e-15</td>\n",
       "      <td>-3.662252e-16</td>\n",
       "      <td>-1.217809e-16</td>\n",
       "      <td>88.349619</td>\n",
       "      <td>0.001727</td>\n",
       "    </tr>\n",
       "    <tr>\n",
       "      <th>std</th>\n",
       "      <td>47488.145955</td>\n",
       "      <td>1.958696e+00</td>\n",
       "      <td>1.651309e+00</td>\n",
       "      <td>1.516255e+00</td>\n",
       "      <td>1.415869e+00</td>\n",
       "      <td>1.380247e+00</td>\n",
       "      <td>1.332271e+00</td>\n",
       "      <td>1.237094e+00</td>\n",
       "      <td>1.194353e+00</td>\n",
       "      <td>1.098632e+00</td>\n",
       "      <td>...</td>\n",
       "      <td>7.345240e-01</td>\n",
       "      <td>7.257016e-01</td>\n",
       "      <td>6.244603e-01</td>\n",
       "      <td>6.056471e-01</td>\n",
       "      <td>5.212781e-01</td>\n",
       "      <td>4.822270e-01</td>\n",
       "      <td>4.036325e-01</td>\n",
       "      <td>3.300833e-01</td>\n",
       "      <td>250.120109</td>\n",
       "      <td>0.041527</td>\n",
       "    </tr>\n",
       "    <tr>\n",
       "      <th>min</th>\n",
       "      <td>0.000000</td>\n",
       "      <td>-5.640751e+01</td>\n",
       "      <td>-7.271573e+01</td>\n",
       "      <td>-4.832559e+01</td>\n",
       "      <td>-5.683171e+00</td>\n",
       "      <td>-1.137433e+02</td>\n",
       "      <td>-2.616051e+01</td>\n",
       "      <td>-4.355724e+01</td>\n",
       "      <td>-7.321672e+01</td>\n",
       "      <td>-1.343407e+01</td>\n",
       "      <td>...</td>\n",
       "      <td>-3.483038e+01</td>\n",
       "      <td>-1.093314e+01</td>\n",
       "      <td>-4.480774e+01</td>\n",
       "      <td>-2.836627e+00</td>\n",
       "      <td>-1.029540e+01</td>\n",
       "      <td>-2.604551e+00</td>\n",
       "      <td>-2.256568e+01</td>\n",
       "      <td>-1.543008e+01</td>\n",
       "      <td>0.000000</td>\n",
       "      <td>0.000000</td>\n",
       "    </tr>\n",
       "    <tr>\n",
       "      <th>25%</th>\n",
       "      <td>54201.500000</td>\n",
       "      <td>-9.203734e-01</td>\n",
       "      <td>-5.985499e-01</td>\n",
       "      <td>-8.903648e-01</td>\n",
       "      <td>-8.486401e-01</td>\n",
       "      <td>-6.915971e-01</td>\n",
       "      <td>-7.682956e-01</td>\n",
       "      <td>-5.540759e-01</td>\n",
       "      <td>-2.086297e-01</td>\n",
       "      <td>-6.430976e-01</td>\n",
       "      <td>...</td>\n",
       "      <td>-2.283949e-01</td>\n",
       "      <td>-5.423504e-01</td>\n",
       "      <td>-1.618463e-01</td>\n",
       "      <td>-3.545861e-01</td>\n",
       "      <td>-3.171451e-01</td>\n",
       "      <td>-3.269839e-01</td>\n",
       "      <td>-7.083953e-02</td>\n",
       "      <td>-5.295979e-02</td>\n",
       "      <td>5.600000</td>\n",
       "      <td>0.000000</td>\n",
       "    </tr>\n",
       "    <tr>\n",
       "      <th>50%</th>\n",
       "      <td>84692.000000</td>\n",
       "      <td>1.810880e-02</td>\n",
       "      <td>6.548556e-02</td>\n",
       "      <td>1.798463e-01</td>\n",
       "      <td>-1.984653e-02</td>\n",
       "      <td>-5.433583e-02</td>\n",
       "      <td>-2.741871e-01</td>\n",
       "      <td>4.010308e-02</td>\n",
       "      <td>2.235804e-02</td>\n",
       "      <td>-5.142873e-02</td>\n",
       "      <td>...</td>\n",
       "      <td>-2.945017e-02</td>\n",
       "      <td>6.781943e-03</td>\n",
       "      <td>-1.119293e-02</td>\n",
       "      <td>4.097606e-02</td>\n",
       "      <td>1.659350e-02</td>\n",
       "      <td>-5.213911e-02</td>\n",
       "      <td>1.342146e-03</td>\n",
       "      <td>1.124383e-02</td>\n",
       "      <td>22.000000</td>\n",
       "      <td>0.000000</td>\n",
       "    </tr>\n",
       "    <tr>\n",
       "      <th>75%</th>\n",
       "      <td>139320.500000</td>\n",
       "      <td>1.315642e+00</td>\n",
       "      <td>8.037239e-01</td>\n",
       "      <td>1.027196e+00</td>\n",
       "      <td>7.433413e-01</td>\n",
       "      <td>6.119264e-01</td>\n",
       "      <td>3.985649e-01</td>\n",
       "      <td>5.704361e-01</td>\n",
       "      <td>3.273459e-01</td>\n",
       "      <td>5.971390e-01</td>\n",
       "      <td>...</td>\n",
       "      <td>1.863772e-01</td>\n",
       "      <td>5.285536e-01</td>\n",
       "      <td>1.476421e-01</td>\n",
       "      <td>4.395266e-01</td>\n",
       "      <td>3.507156e-01</td>\n",
       "      <td>2.409522e-01</td>\n",
       "      <td>9.104512e-02</td>\n",
       "      <td>7.827995e-02</td>\n",
       "      <td>77.165000</td>\n",
       "      <td>0.000000</td>\n",
       "    </tr>\n",
       "    <tr>\n",
       "      <th>max</th>\n",
       "      <td>172792.000000</td>\n",
       "      <td>2.454930e+00</td>\n",
       "      <td>2.205773e+01</td>\n",
       "      <td>9.382558e+00</td>\n",
       "      <td>1.687534e+01</td>\n",
       "      <td>3.480167e+01</td>\n",
       "      <td>7.330163e+01</td>\n",
       "      <td>1.205895e+02</td>\n",
       "      <td>2.000721e+01</td>\n",
       "      <td>1.559499e+01</td>\n",
       "      <td>...</td>\n",
       "      <td>2.720284e+01</td>\n",
       "      <td>1.050309e+01</td>\n",
       "      <td>2.252841e+01</td>\n",
       "      <td>4.584549e+00</td>\n",
       "      <td>7.519589e+00</td>\n",
       "      <td>3.517346e+00</td>\n",
       "      <td>3.161220e+01</td>\n",
       "      <td>3.384781e+01</td>\n",
       "      <td>25691.160000</td>\n",
       "      <td>1.000000</td>\n",
       "    </tr>\n",
       "  </tbody>\n",
       "</table>\n",
       "<p>8 rows × 31 columns</p>\n",
       "</div>"
      ],
      "text/plain": [
       "                Time            V1            V2            V3            V4  \\\n",
       "count  284807.000000  2.848070e+05  2.848070e+05  2.848070e+05  2.848070e+05   \n",
       "mean    94813.859575  3.918649e-15  5.682686e-16 -8.761736e-15  2.811118e-15   \n",
       "std     47488.145955  1.958696e+00  1.651309e+00  1.516255e+00  1.415869e+00   \n",
       "min         0.000000 -5.640751e+01 -7.271573e+01 -4.832559e+01 -5.683171e+00   \n",
       "25%     54201.500000 -9.203734e-01 -5.985499e-01 -8.903648e-01 -8.486401e-01   \n",
       "50%     84692.000000  1.810880e-02  6.548556e-02  1.798463e-01 -1.984653e-02   \n",
       "75%    139320.500000  1.315642e+00  8.037239e-01  1.027196e+00  7.433413e-01   \n",
       "max    172792.000000  2.454930e+00  2.205773e+01  9.382558e+00  1.687534e+01   \n",
       "\n",
       "                 V5            V6            V7            V8            V9  \\\n",
       "count  2.848070e+05  2.848070e+05  2.848070e+05  2.848070e+05  2.848070e+05   \n",
       "mean  -1.552103e-15  2.040130e-15 -1.698953e-15 -1.893285e-16 -3.147640e-15   \n",
       "std    1.380247e+00  1.332271e+00  1.237094e+00  1.194353e+00  1.098632e+00   \n",
       "min   -1.137433e+02 -2.616051e+01 -4.355724e+01 -7.321672e+01 -1.343407e+01   \n",
       "25%   -6.915971e-01 -7.682956e-01 -5.540759e-01 -2.086297e-01 -6.430976e-01   \n",
       "50%   -5.433583e-02 -2.741871e-01  4.010308e-02  2.235804e-02 -5.142873e-02   \n",
       "75%    6.119264e-01  3.985649e-01  5.704361e-01  3.273459e-01  5.971390e-01   \n",
       "max    3.480167e+01  7.330163e+01  1.205895e+02  2.000721e+01  1.559499e+01   \n",
       "\n",
       "       ...           V21           V22           V23           V24  \\\n",
       "count  ...  2.848070e+05  2.848070e+05  2.848070e+05  2.848070e+05   \n",
       "mean   ...  1.473120e-16  8.042109e-16  5.282512e-16  4.456271e-15   \n",
       "std    ...  7.345240e-01  7.257016e-01  6.244603e-01  6.056471e-01   \n",
       "min    ... -3.483038e+01 -1.093314e+01 -4.480774e+01 -2.836627e+00   \n",
       "25%    ... -2.283949e-01 -5.423504e-01 -1.618463e-01 -3.545861e-01   \n",
       "50%    ... -2.945017e-02  6.781943e-03 -1.119293e-02  4.097606e-02   \n",
       "75%    ...  1.863772e-01  5.285536e-01  1.476421e-01  4.395266e-01   \n",
       "max    ...  2.720284e+01  1.050309e+01  2.252841e+01  4.584549e+00   \n",
       "\n",
       "                V25           V26           V27           V28         Amount  \\\n",
       "count  2.848070e+05  2.848070e+05  2.848070e+05  2.848070e+05  284807.000000   \n",
       "mean   1.426896e-15  1.701640e-15 -3.662252e-16 -1.217809e-16      88.349619   \n",
       "std    5.212781e-01  4.822270e-01  4.036325e-01  3.300833e-01     250.120109   \n",
       "min   -1.029540e+01 -2.604551e+00 -2.256568e+01 -1.543008e+01       0.000000   \n",
       "25%   -3.171451e-01 -3.269839e-01 -7.083953e-02 -5.295979e-02       5.600000   \n",
       "50%    1.659350e-02 -5.213911e-02  1.342146e-03  1.124383e-02      22.000000   \n",
       "75%    3.507156e-01  2.409522e-01  9.104512e-02  7.827995e-02      77.165000   \n",
       "max    7.519589e+00  3.517346e+00  3.161220e+01  3.384781e+01   25691.160000   \n",
       "\n",
       "               Class  \n",
       "count  284807.000000  \n",
       "mean        0.001727  \n",
       "std         0.041527  \n",
       "min         0.000000  \n",
       "25%         0.000000  \n",
       "50%         0.000000  \n",
       "75%         0.000000  \n",
       "max         1.000000  \n",
       "\n",
       "[8 rows x 31 columns]"
      ]
     },
     "execution_count": 8,
     "metadata": {},
     "output_type": "execute_result"
    }
   ],
   "source": [
    "df.describe()"
   ]
  },
  {
   "cell_type": "code",
   "execution_count": 9,
   "id": "9baa3254",
   "metadata": {
    "execution": {
     "iopub.execute_input": "2022-02-14T10:40:25.188902Z",
     "iopub.status.busy": "2022-02-14T10:40:25.186182Z",
     "iopub.status.idle": "2022-02-14T10:40:25.191285Z",
     "shell.execute_reply": "2022-02-14T10:40:25.191695Z",
     "shell.execute_reply.started": "2022-02-13T23:28:19.071431Z"
    },
    "papermill": {
     "duration": 0.053081,
     "end_time": "2022-02-14T10:40:25.191827",
     "exception": false,
     "start_time": "2022-02-14T10:40:25.138746",
     "status": "completed"
    },
    "tags": []
   },
   "outputs": [
    {
     "data": {
      "text/plain": [
       "0    284315\n",
       "1       492\n",
       "Name: Class, dtype: int64"
      ]
     },
     "execution_count": 9,
     "metadata": {},
     "output_type": "execute_result"
    }
   ],
   "source": [
    "df.Class.value_counts() "
   ]
  },
  {
   "cell_type": "markdown",
   "id": "e16af903",
   "metadata": {
    "papermill": {
     "duration": 0.042221,
     "end_time": "2022-02-14T10:40:25.276311",
     "exception": false,
     "start_time": "2022-02-14T10:40:25.234090",
     "status": "completed"
    },
    "tags": []
   },
   "source": [
    "On a un dataset très deséquilibré, avec seulement 492 fraudes face à 284315 opérations non-frauduleuses."
   ]
  },
  {
   "cell_type": "markdown",
   "id": "d5078611",
   "metadata": {
    "papermill": {
     "duration": 0.042824,
     "end_time": "2022-02-14T10:40:25.361832",
     "exception": false,
     "start_time": "2022-02-14T10:40:25.319008",
     "status": "completed"
    },
    "tags": []
   },
   "source": [
    "On vérifie s'il y a des valeurs indéterminées dans le dataset :"
   ]
  },
  {
   "cell_type": "code",
   "execution_count": 10,
   "id": "d0663433",
   "metadata": {
    "execution": {
     "iopub.execute_input": "2022-02-14T10:40:25.452169Z",
     "iopub.status.busy": "2022-02-14T10:40:25.451351Z",
     "iopub.status.idle": "2022-02-14T10:40:25.483051Z",
     "shell.execute_reply": "2022-02-14T10:40:25.482584Z",
     "shell.execute_reply.started": "2022-02-13T23:28:19.080688Z"
    },
    "papermill": {
     "duration": 0.078247,
     "end_time": "2022-02-14T10:40:25.483171",
     "exception": false,
     "start_time": "2022-02-14T10:40:25.404924",
     "status": "completed"
    },
    "tags": []
   },
   "outputs": [
    {
     "data": {
      "text/plain": [
       "0"
      ]
     },
     "execution_count": 10,
     "metadata": {},
     "output_type": "execute_result"
    }
   ],
   "source": [
    "df.isnull().values.sum()"
   ]
  },
  {
   "cell_type": "markdown",
   "id": "e401cbde",
   "metadata": {
    "papermill": {
     "duration": 0.042425,
     "end_time": "2022-02-14T10:40:25.568752",
     "exception": false,
     "start_time": "2022-02-14T10:40:25.526327",
     "status": "completed"
    },
    "tags": []
   },
   "source": [
    "On normalise les valeurs numériques :"
   ]
  },
  {
   "cell_type": "code",
   "execution_count": 11,
   "id": "37a8a866",
   "metadata": {
    "execution": {
     "iopub.execute_input": "2022-02-14T10:40:25.658074Z",
     "iopub.status.busy": "2022-02-14T10:40:25.655696Z",
     "iopub.status.idle": "2022-02-14T10:40:25.660863Z",
     "shell.execute_reply": "2022-02-14T10:40:25.660362Z",
     "shell.execute_reply.started": "2022-02-13T23:28:19.112009Z"
    },
    "papermill": {
     "duration": 0.049694,
     "end_time": "2022-02-14T10:40:25.661039",
     "exception": false,
     "start_time": "2022-02-14T10:40:25.611345",
     "status": "completed"
    },
    "tags": []
   },
   "outputs": [],
   "source": [
    "cont_feat = list(set(df.columns)-{'Class'})"
   ]
  },
  {
   "cell_type": "markdown",
   "id": "021438c9",
   "metadata": {
    "papermill": {
     "duration": 0.04234,
     "end_time": "2022-02-14T10:40:25.745868",
     "exception": false,
     "start_time": "2022-02-14T10:40:25.703528",
     "status": "completed"
    },
    "tags": []
   },
   "source": [
    "Standardiser les données quantitatives:"
   ]
  },
  {
   "cell_type": "code",
   "execution_count": 12,
   "id": "5f06b7fb",
   "metadata": {
    "execution": {
     "iopub.execute_input": "2022-02-14T10:40:25.859744Z",
     "iopub.status.busy": "2022-02-14T10:40:25.858725Z",
     "iopub.status.idle": "2022-02-14T10:40:26.196866Z",
     "shell.execute_reply": "2022-02-14T10:40:26.196177Z",
     "shell.execute_reply.started": "2022-02-13T23:28:19.122941Z"
    },
    "papermill": {
     "duration": 0.408606,
     "end_time": "2022-02-14T10:40:26.197022",
     "exception": false,
     "start_time": "2022-02-14T10:40:25.788416",
     "status": "completed"
    },
    "tags": []
   },
   "outputs": [],
   "source": [
    "df=scale_feat(df,cont_feat)"
   ]
  },
  {
   "cell_type": "code",
   "execution_count": 13,
   "id": "ba6f02d2",
   "metadata": {
    "execution": {
     "iopub.execute_input": "2022-02-14T10:40:26.333038Z",
     "iopub.status.busy": "2022-02-14T10:40:26.332115Z",
     "iopub.status.idle": "2022-02-14T10:40:26.644323Z",
     "shell.execute_reply": "2022-02-14T10:40:26.644748Z",
     "shell.execute_reply.started": "2022-02-13T23:28:19.489802Z"
    },
    "papermill": {
     "duration": 0.404907,
     "end_time": "2022-02-14T10:40:26.644908",
     "exception": false,
     "start_time": "2022-02-14T10:40:26.240001",
     "status": "completed"
    },
    "tags": []
   },
   "outputs": [
    {
     "data": {
      "text/html": [
       "<div>\n",
       "<style scoped>\n",
       "    .dataframe tbody tr th:only-of-type {\n",
       "        vertical-align: middle;\n",
       "    }\n",
       "\n",
       "    .dataframe tbody tr th {\n",
       "        vertical-align: top;\n",
       "    }\n",
       "\n",
       "    .dataframe thead th {\n",
       "        text-align: right;\n",
       "    }\n",
       "</style>\n",
       "<table border=\"1\" class=\"dataframe\">\n",
       "  <thead>\n",
       "    <tr style=\"text-align: right;\">\n",
       "      <th></th>\n",
       "      <th>V28</th>\n",
       "      <th>V20</th>\n",
       "      <th>V2</th>\n",
       "      <th>V17</th>\n",
       "      <th>V4</th>\n",
       "      <th>V10</th>\n",
       "      <th>V15</th>\n",
       "      <th>V16</th>\n",
       "      <th>V7</th>\n",
       "      <th>V11</th>\n",
       "      <th>...</th>\n",
       "      <th>V6</th>\n",
       "      <th>V22</th>\n",
       "      <th>Amount</th>\n",
       "      <th>V23</th>\n",
       "      <th>V27</th>\n",
       "      <th>V3</th>\n",
       "      <th>Time</th>\n",
       "      <th>V1</th>\n",
       "      <th>V24</th>\n",
       "      <th>V18</th>\n",
       "    </tr>\n",
       "  </thead>\n",
       "  <tbody>\n",
       "    <tr>\n",
       "      <th>count</th>\n",
       "      <td>284807.000000</td>\n",
       "      <td>284807.000000</td>\n",
       "      <td>284807.000000</td>\n",
       "      <td>284807.000000</td>\n",
       "      <td>284807.000000</td>\n",
       "      <td>284807.000000</td>\n",
       "      <td>284807.000000</td>\n",
       "      <td>284807.000000</td>\n",
       "      <td>284807.000000</td>\n",
       "      <td>284807.000000</td>\n",
       "      <td>...</td>\n",
       "      <td>284807.000000</td>\n",
       "      <td>284807.000000</td>\n",
       "      <td>284807.000000</td>\n",
       "      <td>284807.000000</td>\n",
       "      <td>284807.000000</td>\n",
       "      <td>284807.000000</td>\n",
       "      <td>284807.000000</td>\n",
       "      <td>284807.000000</td>\n",
       "      <td>284807.000000</td>\n",
       "      <td>284807.000000</td>\n",
       "    </tr>\n",
       "    <tr>\n",
       "      <th>mean</th>\n",
       "      <td>-0.085674</td>\n",
       "      <td>0.181230</td>\n",
       "      <td>-0.046700</td>\n",
       "      <td>0.074342</td>\n",
       "      <td>0.012467</td>\n",
       "      <td>0.093918</td>\n",
       "      <td>-0.039028</td>\n",
       "      <td>-0.066994</td>\n",
       "      <td>-0.035663</td>\n",
       "      <td>0.021808</td>\n",
       "      <td>...</td>\n",
       "      <td>0.234978</td>\n",
       "      <td>-0.006333</td>\n",
       "      <td>0.927124</td>\n",
       "      <td>0.036166</td>\n",
       "      <td>-0.008291</td>\n",
       "      <td>-0.093789</td>\n",
       "      <td>0.118914</td>\n",
       "      <td>-0.008099</td>\n",
       "      <td>-0.051600</td>\n",
       "      <td>0.003638</td>\n",
       "    </tr>\n",
       "    <tr>\n",
       "      <th>std</th>\n",
       "      <td>2.515117</td>\n",
       "      <td>2.236107</td>\n",
       "      <td>1.177594</td>\n",
       "      <td>0.961416</td>\n",
       "      <td>0.889375</td>\n",
       "      <td>1.100572</td>\n",
       "      <td>0.743129</td>\n",
       "      <td>0.883914</td>\n",
       "      <td>1.100116</td>\n",
       "      <td>0.679530</td>\n",
       "      <td>...</td>\n",
       "      <td>1.141757</td>\n",
       "      <td>0.677653</td>\n",
       "      <td>3.495006</td>\n",
       "      <td>2.017718</td>\n",
       "      <td>2.493334</td>\n",
       "      <td>0.790721</td>\n",
       "      <td>0.557903</td>\n",
       "      <td>0.875976</td>\n",
       "      <td>0.762671</td>\n",
       "      <td>0.838464</td>\n",
       "    </tr>\n",
       "    <tr>\n",
       "      <th>min</th>\n",
       "      <td>-117.657402</td>\n",
       "      <td>-157.892131</td>\n",
       "      <td>-51.902285</td>\n",
       "      <td>-28.408945</td>\n",
       "      <td>-3.557406</td>\n",
       "      <td>-24.759049</td>\n",
       "      <td>-3.691644</td>\n",
       "      <td>-14.320381</td>\n",
       "      <td>-38.770014</td>\n",
       "      <td>-3.172063</td>\n",
       "      <td>...</td>\n",
       "      <td>-22.184587</td>\n",
       "      <td>-10.215599</td>\n",
       "      <td>-0.307413</td>\n",
       "      <td>-144.743845</td>\n",
       "      <td>-139.401862</td>\n",
       "      <td>-25.295389</td>\n",
       "      <td>-0.994983</td>\n",
       "      <td>-25.234901</td>\n",
       "      <td>-3.623671</td>\n",
       "      <td>-9.498372</td>\n",
       "    </tr>\n",
       "    <tr>\n",
       "      <th>25%</th>\n",
       "      <td>-0.489209</td>\n",
       "      <td>-0.432879</td>\n",
       "      <td>-0.473542</td>\n",
       "      <td>-0.473241</td>\n",
       "      <td>-0.520605</td>\n",
       "      <td>-0.447272</td>\n",
       "      <td>-0.512262</td>\n",
       "      <td>-0.539123</td>\n",
       "      <td>-0.528388</td>\n",
       "      <td>-0.485815</td>\n",
       "      <td>...</td>\n",
       "      <td>-0.423451</td>\n",
       "      <td>-0.512775</td>\n",
       "      <td>-0.229162</td>\n",
       "      <td>-0.486782</td>\n",
       "      <td>-0.445883</td>\n",
       "      <td>-0.558111</td>\n",
       "      <td>-0.358210</td>\n",
       "      <td>-0.419712</td>\n",
       "      <td>-0.498118</td>\n",
       "      <td>-0.495384</td>\n",
       "    </tr>\n",
       "    <tr>\n",
       "      <th>50%</th>\n",
       "      <td>0.000000</td>\n",
       "      <td>0.000000</td>\n",
       "      <td>0.000000</td>\n",
       "      <td>0.000000</td>\n",
       "      <td>0.000000</td>\n",
       "      <td>0.000000</td>\n",
       "      <td>0.000000</td>\n",
       "      <td>0.000000</td>\n",
       "      <td>0.000000</td>\n",
       "      <td>0.000000</td>\n",
       "      <td>...</td>\n",
       "      <td>0.000000</td>\n",
       "      <td>0.000000</td>\n",
       "      <td>0.000000</td>\n",
       "      <td>0.000000</td>\n",
       "      <td>0.000000</td>\n",
       "      <td>0.000000</td>\n",
       "      <td>0.000000</td>\n",
       "      <td>0.000000</td>\n",
       "      <td>0.000000</td>\n",
       "      <td>0.000000</td>\n",
       "    </tr>\n",
       "    <tr>\n",
       "      <th>75%</th>\n",
       "      <td>0.510791</td>\n",
       "      <td>0.567121</td>\n",
       "      <td>0.526458</td>\n",
       "      <td>0.526759</td>\n",
       "      <td>0.479395</td>\n",
       "      <td>0.552728</td>\n",
       "      <td>0.487738</td>\n",
       "      <td>0.460877</td>\n",
       "      <td>0.471612</td>\n",
       "      <td>0.514185</td>\n",
       "      <td>...</td>\n",
       "      <td>0.576549</td>\n",
       "      <td>0.487225</td>\n",
       "      <td>0.770838</td>\n",
       "      <td>0.513218</td>\n",
       "      <td>0.554117</td>\n",
       "      <td>0.441889</td>\n",
       "      <td>0.641790</td>\n",
       "      <td>0.580288</td>\n",
       "      <td>0.501882</td>\n",
       "      <td>0.504616</td>\n",
       "    </tr>\n",
       "    <tr>\n",
       "      <th>max</th>\n",
       "      <td>257.822531</td>\n",
       "      <td>114.523532</td>\n",
       "      <td>15.683274</td>\n",
       "      <td>10.548966</td>\n",
       "      <td>10.612681</td>\n",
       "      <td>24.094682</td>\n",
       "      <td>7.168656</td>\n",
       "      <td>17.399498</td>\n",
       "      <td>107.201520</td>\n",
       "      <td>8.023281</td>\n",
       "      <td>...</td>\n",
       "      <td>63.054506</td>\n",
       "      <td>9.801353</td>\n",
       "      <td>358.683155</td>\n",
       "      <td>72.828591</td>\n",
       "      <td>195.267780</td>\n",
       "      <td>4.799177</td>\n",
       "      <td>1.035022</td>\n",
       "      <td>1.089805</td>\n",
       "      <td>5.721572</td>\n",
       "      <td>5.046439</td>\n",
       "    </tr>\n",
       "  </tbody>\n",
       "</table>\n",
       "<p>8 rows × 30 columns</p>\n",
       "</div>"
      ],
      "text/plain": [
       "                 V28            V20             V2            V17  \\\n",
       "count  284807.000000  284807.000000  284807.000000  284807.000000   \n",
       "mean       -0.085674       0.181230      -0.046700       0.074342   \n",
       "std         2.515117       2.236107       1.177594       0.961416   \n",
       "min      -117.657402    -157.892131     -51.902285     -28.408945   \n",
       "25%        -0.489209      -0.432879      -0.473542      -0.473241   \n",
       "50%         0.000000       0.000000       0.000000       0.000000   \n",
       "75%         0.510791       0.567121       0.526458       0.526759   \n",
       "max       257.822531     114.523532      15.683274      10.548966   \n",
       "\n",
       "                  V4            V10            V15            V16  \\\n",
       "count  284807.000000  284807.000000  284807.000000  284807.000000   \n",
       "mean        0.012467       0.093918      -0.039028      -0.066994   \n",
       "std         0.889375       1.100572       0.743129       0.883914   \n",
       "min        -3.557406     -24.759049      -3.691644     -14.320381   \n",
       "25%        -0.520605      -0.447272      -0.512262      -0.539123   \n",
       "50%         0.000000       0.000000       0.000000       0.000000   \n",
       "75%         0.479395       0.552728       0.487738       0.460877   \n",
       "max        10.612681      24.094682       7.168656      17.399498   \n",
       "\n",
       "                  V7            V11  ...             V6            V22  \\\n",
       "count  284807.000000  284807.000000  ...  284807.000000  284807.000000   \n",
       "mean       -0.035663       0.021808  ...       0.234978      -0.006333   \n",
       "std         1.100116       0.679530  ...       1.141757       0.677653   \n",
       "min       -38.770014      -3.172063  ...     -22.184587     -10.215599   \n",
       "25%        -0.528388      -0.485815  ...      -0.423451      -0.512775   \n",
       "50%         0.000000       0.000000  ...       0.000000       0.000000   \n",
       "75%         0.471612       0.514185  ...       0.576549       0.487225   \n",
       "max       107.201520       8.023281  ...      63.054506       9.801353   \n",
       "\n",
       "              Amount            V23            V27             V3  \\\n",
       "count  284807.000000  284807.000000  284807.000000  284807.000000   \n",
       "mean        0.927124       0.036166      -0.008291      -0.093789   \n",
       "std         3.495006       2.017718       2.493334       0.790721   \n",
       "min        -0.307413    -144.743845    -139.401862     -25.295389   \n",
       "25%        -0.229162      -0.486782      -0.445883      -0.558111   \n",
       "50%         0.000000       0.000000       0.000000       0.000000   \n",
       "75%         0.770838       0.513218       0.554117       0.441889   \n",
       "max       358.683155      72.828591     195.267780       4.799177   \n",
       "\n",
       "                Time             V1            V24            V18  \n",
       "count  284807.000000  284807.000000  284807.000000  284807.000000  \n",
       "mean        0.118914      -0.008099      -0.051600       0.003638  \n",
       "std         0.557903       0.875976       0.762671       0.838464  \n",
       "min        -0.994983     -25.234901      -3.623671      -9.498372  \n",
       "25%        -0.358210      -0.419712      -0.498118      -0.495384  \n",
       "50%         0.000000       0.000000       0.000000       0.000000  \n",
       "75%         0.641790       0.580288       0.501882       0.504616  \n",
       "max         1.035022       1.089805       5.721572       5.046439  \n",
       "\n",
       "[8 rows x 30 columns]"
      ]
     },
     "execution_count": 13,
     "metadata": {},
     "output_type": "execute_result"
    }
   ],
   "source": [
    "df[cont_feat].describe()"
   ]
  },
  {
   "cell_type": "markdown",
   "id": "4f547487",
   "metadata": {
    "papermill": {
     "duration": 0.043024,
     "end_time": "2022-02-14T10:40:26.731614",
     "exception": false,
     "start_time": "2022-02-14T10:40:26.688590",
     "status": "completed"
    },
    "tags": []
   },
   "source": [
    "On affiche les distributions des valeurs continues :"
   ]
  },
  {
   "cell_type": "code",
   "execution_count": 14,
   "id": "99afdbaa",
   "metadata": {
    "execution": {
     "iopub.execute_input": "2022-02-14T10:40:26.825682Z",
     "iopub.status.busy": "2022-02-14T10:40:26.822538Z",
     "iopub.status.idle": "2022-02-14T10:41:00.216519Z",
     "shell.execute_reply": "2022-02-14T10:41:00.216936Z",
     "shell.execute_reply.started": "2022-02-13T23:28:19.845172Z"
    },
    "papermill": {
     "duration": 33.442357,
     "end_time": "2022-02-14T10:41:00.217088",
     "exception": false,
     "start_time": "2022-02-14T10:40:26.774731",
     "status": "completed"
    },
    "tags": []
   },
   "outputs": [
    {
     "name": "stderr",
     "output_type": "stream",
     "text": [
      "/opt/conda/lib/python3.7/site-packages/ipykernel_launcher.py:2: RuntimeWarning: More than 20 figures have been opened. Figures created through the pyplot interface (`matplotlib.pyplot.figure`) are retained until explicitly closed and may consume too much memory. (To control this warning, see the rcParam `figure.max_open_warning`).\n",
      "  \n"
     ]
    },
    {
     "data": {
      "image/png": "[encoded data removed]",
      "text/plain": [
       "<Figure size 720x360 with 1 Axes>"
      ]
     },
     "metadata": {
      "needs_background": "light"
     },
     "output_type": "display_data"
    },
    {
     "data": {
      "image/png": "[encoded data removed]",
      "text/plain": [
       "<Figure size 720x360 with 1 Axes>"
      ]
     },
     "metadata": {
      "needs_background": "light"
     },
     "output_type": "display_data"
    },
    {
     "data": {
      "image/png": "[encoded data removed]",
      "text/plain": [
       "<Figure size 720x360 with 1 Axes>"
      ]
     },
     "metadata": {
      "needs_background": "light"
     },
     "output_type": "display_data"
    },
    {
     "data": {
      "image/png": "[encoded data removed]",
      "text/plain": [
       "<Figure size 720x360 with 1 Axes>"
      ]
     },
     "metadata": {
      "needs_background": "light"
     },
     "output_type": "display_data"
    },
    {
     "data": {
      "image/png": "[encoded data removed]",
      "text/plain": [
       "<Figure size 720x360 with 1 Axes>"
      ]
     },
     "metadata": {
      "needs_background": "light"
     },
     "output_type": "display_data"
    },
    {
     "data": {
      "image/png": "[encoded data removed]",
      "text/plain": [
       "<Figure size 720x360 with 1 Axes>"
      ]
     },
     "metadata": {
      "needs_background": "light"
     },
     "output_type": "display_data"
    },
    {
     "data": {
      "image/png": "[encoded data removed]",
      "text/plain": [
       "<Figure size 720x360 with 1 Axes>"
      ]
     },
     "metadata": {
      "needs_background": "light"
     },
     "output_type": "display_data"
    },
    {
     "data": {
      "image/png": "[encoded data removed]",
      "text/plain": [
       "<Figure size 720x360 with 1 Axes>"
      ]
     },
     "metadata": {
      "needs_background": "light"
     },
     "output_type": "display_data"
    },
    {
     "data": {
      "image/png": "[encoded data removed]",
      "text/plain": [
       "<Figure size 720x360 with 1 Axes>"
      ]
     },
     "metadata": {
      "needs_background": "light"
     },
     "output_type": "display_data"
    },
    {
     "data": {
      "image/png": "[encoded data removed]",
      "text/plain": [
       "<Figure size 720x360 with 1 Axes>"
      ]
     },
     "metadata": {
      "needs_background": "light"
     },
     "output_type": "display_data"
    },
    {
     "data": {
      "image/png": "[encoded data removed]",
      "text/plain": [
       "<Figure size 720x360 with 1 Axes>"
      ]
     },
     "metadata": {
      "needs_background": "light"
     },
     "output_type": "display_data"
    },
    {
     "data": {
      "image/png": "[encoded data removed]",
      "text/plain": [
       "<Figure size 720x360 with 1 Axes>"
      ]
     },
     "metadata": {
      "needs_background": "light"
     },
     "output_type": "display_data"
    },
    {
     "data": {
      "image/png": "[encoded data removed]",
      "text/plain": [
       "<Figure size 720x360 with 1 Axes>"
      ]
     },
     "metadata": {
      "needs_background": "light"
     },
     "output_type": "display_data"
    },
    {
     "data": {
      "image/png": "[encoded data removed]",
      "text/plain": [
       "<Figure size 720x360 with 1 Axes>"
      ]
     },
     "metadata": {
      "needs_background": "light"
     },
     "output_type": "display_data"
    },
    {
     "data": {
      "image/png": "[encoded data removed]",
      "text/plain": [
       "<Figure size 720x360 with 1 Axes>"
      ]
     },
     "metadata": {
      "needs_background": "light"
     },
     "output_type": "display_data"
    },
    {
     "data": {
      "image/png": "[encoded data removed]",
      "text/plain": [
       "<Figure size 720x360 with 1 Axes>"
      ]
     },
     "metadata": {
      "needs_background": "light"
     },
     "output_type": "display_data"
    },
    {
     "data": {
      "image/png": "[encoded data removed]",
      "text/plain": [
       "<Figure size 720x360 with 1 Axes>"
      ]
     },
     "metadata": {
      "needs_background": "light"
     },
     "output_type": "display_data"
    },
    {
     "data": {
      "image/png": "[encoded data removed]",
      "text/plain": [
       "<Figure size 720x360 with 1 Axes>"
      ]
     },
     "metadata": {
      "needs_background": "light"
     },
     "output_type": "display_data"
    },
    {
     "data": {
      "image/png": "[encoded data removed]",
      "text/plain": [
       "<Figure size 720x360 with 1 Axes>"
      ]
     },
     "metadata": {
      "needs_background": "light"
     },
     "output_type": "display_data"
    },
    {
     "data": {
      "image/png": "[encoded data removed]",
      "text/plain": [
       "<Figure size 720x360 with 1 Axes>"
      ]
     },
     "metadata": {
      "needs_background": "light"
     },
     "output_type": "display_data"
    },
    {
     "data": {
      "image/png": "[encoded data removed]",
      "text/plain": [
       "<Figure size 720x360 with 1 Axes>"
      ]
     },
     "metadata": {
      "needs_background": "light"
     },
     "output_type": "display_data"
    },
    {
     "data": {
      "image/png": "[encoded data removed]",
      "text/plain": [
       "<Figure size 720x360 with 1 Axes>"
      ]
     },
     "metadata": {
      "needs_background": "light"
     },
     "output_type": "display_data"
    },
    {
     "data": {
      "image/png": "[encoded data removed]",
      "text/plain": [
       "<Figure size 720x360 with 1 Axes>"
      ]
     },
     "metadata": {
      "needs_background": "light"
     },
     "output_type": "display_data"
    },
    {
     "data": {
      "image/png": "[encoded data removed]",
      "text/plain": [
       "<Figure size 720x360 with 1 Axes>"
      ]
     },
     "metadata": {
      "needs_background": "light"
     },
     "output_type": "display_data"
    },
    {
     "data": {
      "image/png": "[encoded data removed]",
      "text/plain": [
       "<Figure size 720x360 with 1 Axes>"
      ]
     },
     "metadata": {
      "needs_background": "light"
     },
     "output_type": "display_data"
    },
    {
     "data": {
      "image/png": "[encoded data removed]",
      "text/plain": [
       "<Figure size 720x360 with 1 Axes>"
      ]
     },
     "metadata": {
      "needs_background": "light"
     },
     "output_type": "display_data"
    },
    {
     "data": {
      "image/png": "[encoded data removed]",
      "text/plain": [
       "<Figure size 720x360 with 1 Axes>"
      ]
     },
     "metadata": {
      "needs_background": "light"
     },
     "output_type": "display_data"
    },
    {
     "data": {
      "image/png": "[encoded data removed]",
      "text/plain": [
       "<Figure size 720x360 with 1 Axes>"
      ]
     },
     "metadata": {
      "needs_background": "light"
     },
     "output_type": "display_data"
    },
    {
     "data": {
      "image/png": "[encoded data removed]",
      "text/plain": [
       "<Figure size 720x360 with 1 Axes>"
      ]
     },
     "metadata": {
      "needs_background": "light"
     },
     "output_type": "display_data"
    },
    {
     "data": {
      "image/png": "[encoded data removed]",
      "text/plain": [
       "<Figure size 720x360 with 1 Axes>"
      ]
     },
     "metadata": {
      "needs_background": "light"
     },
     "output_type": "display_data"
    }
   ],
   "source": [
    "for col in cont_feat :\n",
    "    plt.figure(figsize=[10,5])\n",
    "    plt.title(col)\n",
    "    sns.kdeplot(df[col])"
   ]
  },
  {
   "cell_type": "markdown",
   "id": "a5c0834b",
   "metadata": {
    "papermill": {
     "duration": 0.06498,
     "end_time": "2022-02-14T10:41:00.348085",
     "exception": false,
     "start_time": "2022-02-14T10:41:00.283105",
     "status": "completed"
    },
    "tags": []
   },
   "source": [
    "Il est un peu difficile d'étudier les features étant donné que nous ne savons pas à quoi ils font référence."
   ]
  },
  {
   "cell_type": "markdown",
   "id": "e6cc7f9b",
   "metadata": {
    "papermill": {
     "duration": 0.064579,
     "end_time": "2022-02-14T10:41:00.477921",
     "exception": false,
     "start_time": "2022-02-14T10:41:00.413342",
     "status": "completed"
    },
    "tags": []
   },
   "source": [
    "### Machine Learning"
   ]
  },
  {
   "cell_type": "markdown",
   "id": "d1e99153",
   "metadata": {
    "papermill": {
     "duration": 0.064629,
     "end_time": "2022-02-14T10:41:00.608161",
     "exception": false,
     "start_time": "2022-02-14T10:41:00.543532",
     "status": "completed"
    },
    "tags": []
   },
   "source": [
    "### Random Forest"
   ]
  },
  {
   "cell_type": "markdown",
   "id": "c31b90be",
   "metadata": {
    "papermill": {
     "duration": 0.064687,
     "end_time": "2022-02-14T10:41:00.737606",
     "exception": false,
     "start_time": "2022-02-14T10:41:00.672919",
     "status": "completed"
    },
    "tags": []
   },
   "source": [
    "Un des grands défis du machine learning ces dernières années est l’explicabilité (ou interprétabilité) des modèles.\n",
    "\n",
    "Son efficacité est assez bonne et on a des techniques pour interpréter les résultats. On peut par exemple déterminer quelles sont les features qui ont été déterminantes pour l’obtention d’une prédiction. Random forest offre une meilleur transparence sur l’utilisation faites des données d’entrainement."
   ]
  },
  {
   "cell_type": "markdown",
   "id": "8ae2a40c",
   "metadata": {
    "papermill": {
     "duration": 0.064428,
     "end_time": "2022-02-14T10:41:00.866711",
     "exception": false,
     "start_time": "2022-02-14T10:41:00.802283",
     "status": "completed"
    },
    "tags": []
   },
   "source": [
    "On construit les ensembles d'apprentissage et de test :"
   ]
  },
  {
   "cell_type": "code",
   "execution_count": 15,
   "id": "119fda25",
   "metadata": {
    "execution": {
     "iopub.execute_input": "2022-02-14T10:41:01.026416Z",
     "iopub.status.busy": "2022-02-14T10:41:01.025645Z",
     "iopub.status.idle": "2022-02-14T10:41:01.114482Z",
     "shell.execute_reply": "2022-02-14T10:41:01.114935Z",
     "shell.execute_reply.started": "2022-02-13T23:28:54.110875Z"
    },
    "papermill": {
     "duration": 0.18304,
     "end_time": "2022-02-14T10:41:01.115109",
     "exception": false,
     "start_time": "2022-02-14T10:41:00.932069",
     "status": "completed"
    },
    "tags": []
   },
   "outputs": [],
   "source": [
    "from sklearn.model_selection import train_test_split\n",
    "\n",
    "X = df.drop(['Class'], axis=1)\n",
    "y = df.Class\n",
    "X_train, X_test, y_train, y_test = train_test_split(X, y, test_size=0.2, random_state=1)"
   ]
  },
  {
   "cell_type": "markdown",
   "id": "2eb966e1",
   "metadata": {
    "papermill": {
     "duration": 0.065995,
     "end_time": "2022-02-14T10:41:01.247118",
     "exception": false,
     "start_time": "2022-02-14T10:41:01.181123",
     "status": "completed"
    },
    "tags": []
   },
   "source": [
    "On teste les forêts aléatoires :"
   ]
  },
  {
   "cell_type": "code",
   "execution_count": 16,
   "id": "3ec41061",
   "metadata": {
    "execution": {
     "iopub.execute_input": "2022-02-14T10:41:01.388792Z",
     "iopub.status.busy": "2022-02-14T10:41:01.388086Z",
     "iopub.status.idle": "2022-02-14T10:44:09.707216Z",
     "shell.execute_reply": "2022-02-14T10:44:09.706600Z",
     "shell.execute_reply.started": "2022-02-13T23:28:54.237823Z"
    },
    "papermill": {
     "duration": 188.39386,
     "end_time": "2022-02-14T10:44:09.707380",
     "exception": false,
     "start_time": "2022-02-14T10:41:01.313520",
     "status": "completed"
    },
    "tags": []
   },
   "outputs": [],
   "source": [
    "from sklearn import ensemble\n",
    "\n",
    "rf = ensemble.RandomForestClassifier()\n",
    "rf.fit(X_train, y_train)\n",
    "y_rf = rf.predict(X_test)"
   ]
  },
  {
   "cell_type": "code",
   "execution_count": 17,
   "id": "b45c46f4",
   "metadata": {
    "execution": {
     "iopub.execute_input": "2022-02-14T10:44:09.848723Z",
     "iopub.status.busy": "2022-02-14T10:44:09.847916Z",
     "iopub.status.idle": "2022-02-14T10:44:09.900147Z",
     "shell.execute_reply": "2022-02-14T10:44:09.900561Z",
     "shell.execute_reply.started": "2022-02-13T23:32:04.846327Z"
    },
    "papermill": {
     "duration": 0.122241,
     "end_time": "2022-02-14T10:44:09.900721",
     "exception": false,
     "start_time": "2022-02-14T10:44:09.778480",
     "status": "completed"
    },
    "tags": []
   },
   "outputs": [
    {
     "name": "stdout",
     "output_type": "stream",
     "text": [
      "              precision    recall  f1-score   support\n",
      "\n",
      "           0       1.00      1.00      1.00     56875\n",
      "           1       0.93      0.76      0.84        87\n",
      "\n",
      "    accuracy                           1.00     56962\n",
      "   macro avg       0.96      0.88      0.92     56962\n",
      "weighted avg       1.00      1.00      1.00     56962\n",
      "\n"
     ]
    }
   ],
   "source": [
    "print(classification_report(y_test, y_rf))"
   ]
  },
  {
   "cell_type": "markdown",
   "id": "513cfe2f",
   "metadata": {
    "papermill": {
     "duration": 0.067113,
     "end_time": "2022-02-14T10:44:10.034125",
     "exception": false,
     "start_time": "2022-02-14T10:44:09.967012",
     "status": "completed"
    },
    "tags": []
   },
   "source": [
    "Le modèle possède une précision de 1, ce qui est un trés bon résultat."
   ]
  },
  {
   "cell_type": "code",
   "execution_count": 18,
   "id": "1af4f530",
   "metadata": {
    "execution": {
     "iopub.execute_input": "2022-02-14T10:44:10.172243Z",
     "iopub.status.busy": "2022-02-14T10:44:10.169555Z",
     "iopub.status.idle": "2022-02-14T10:44:10.226969Z",
     "shell.execute_reply": "2022-02-14T10:44:10.227382Z",
     "shell.execute_reply.started": "2022-02-13T23:32:04.902563Z"
    },
    "papermill": {
     "duration": 0.126891,
     "end_time": "2022-02-14T10:44:10.227545",
     "exception": false,
     "start_time": "2022-02-14T10:44:10.100654",
     "status": "completed"
    },
    "tags": []
   },
   "outputs": [
    {
     "data": {
      "text/html": [
       "<div>\n",
       "<style scoped>\n",
       "    .dataframe tbody tr th:only-of-type {\n",
       "        vertical-align: middle;\n",
       "    }\n",
       "\n",
       "    .dataframe tbody tr th {\n",
       "        vertical-align: top;\n",
       "    }\n",
       "\n",
       "    .dataframe thead th {\n",
       "        text-align: right;\n",
       "    }\n",
       "</style>\n",
       "<table border=\"1\" class=\"dataframe\">\n",
       "  <thead>\n",
       "    <tr style=\"text-align: right;\">\n",
       "      <th>Prediction</th>\n",
       "      <th>0</th>\n",
       "      <th>1</th>\n",
       "      <th>All</th>\n",
       "    </tr>\n",
       "    <tr>\n",
       "      <th>Reel</th>\n",
       "      <th></th>\n",
       "      <th></th>\n",
       "      <th></th>\n",
       "    </tr>\n",
       "  </thead>\n",
       "  <tbody>\n",
       "    <tr>\n",
       "      <th>0</th>\n",
       "      <td>56870</td>\n",
       "      <td>5</td>\n",
       "      <td>56875</td>\n",
       "    </tr>\n",
       "    <tr>\n",
       "      <th>1</th>\n",
       "      <td>21</td>\n",
       "      <td>66</td>\n",
       "      <td>87</td>\n",
       "    </tr>\n",
       "    <tr>\n",
       "      <th>All</th>\n",
       "      <td>56891</td>\n",
       "      <td>71</td>\n",
       "      <td>56962</td>\n",
       "    </tr>\n",
       "  </tbody>\n",
       "</table>\n",
       "</div>"
      ],
      "text/plain": [
       "Prediction      0   1    All\n",
       "Reel                        \n",
       "0           56870   5  56875\n",
       "1              21  66     87\n",
       "All         56891  71  56962"
      ]
     },
     "execution_count": 18,
     "metadata": {},
     "output_type": "execute_result"
    }
   ],
   "source": [
    "pd.crosstab(y_test, y_rf, rownames=['Reel'], colnames=['Prediction'], margins=True)"
   ]
  },
  {
   "cell_type": "markdown",
   "id": "0032a690",
   "metadata": {
    "papermill": {
     "duration": 0.066217,
     "end_time": "2022-02-14T10:44:10.363638",
     "exception": false,
     "start_time": "2022-02-14T10:44:10.297421",
     "status": "completed"
    },
    "tags": []
   },
   "source": [
    "#### *Sous-échantillonage:*"
   ]
  },
  {
   "cell_type": "markdown",
   "id": "7980441d",
   "metadata": {
    "papermill": {
     "duration": 0.066169,
     "end_time": "2022-02-14T10:44:10.496135",
     "exception": false,
     "start_time": "2022-02-14T10:44:10.429966",
     "status": "completed"
    },
    "tags": []
   },
   "source": [
    "Il y a beaucoup moins de transaction frauduleuses que de transactions non-frauduleuses."
   ]
  },
  {
   "cell_type": "markdown",
   "id": "08aef2eb",
   "metadata": {
    "papermill": {
     "duration": 0.066128,
     "end_time": "2022-02-14T10:44:10.633894",
     "exception": false,
     "start_time": "2022-02-14T10:44:10.567766",
     "status": "completed"
    },
    "tags": []
   },
   "source": [
    "On va garder autant de transactions non-frauduleuses que de frauduleuse dans l'ensemble d'apprentissage (X_train), en tirant aléatoirement ceux qu'on va garder On dit qu'on \"sous-échantillonne la classe majoritaire\""
   ]
  },
  {
   "cell_type": "code",
   "execution_count": 19,
   "id": "6032be9c",
   "metadata": {
    "execution": {
     "iopub.execute_input": "2022-02-14T10:44:10.770948Z",
     "iopub.status.busy": "2022-02-14T10:44:10.770237Z",
     "iopub.status.idle": "2022-02-14T10:44:10.936993Z",
     "shell.execute_reply": "2022-02-14T10:44:10.936484Z",
     "shell.execute_reply.started": "2022-02-13T23:32:04.955093Z"
    },
    "papermill": {
     "duration": 0.237107,
     "end_time": "2022-02-14T10:44:10.937131",
     "exception": false,
     "start_time": "2022-02-14T10:44:10.700024",
     "status": "completed"
    },
    "tags": []
   },
   "outputs": [],
   "source": [
    "from imblearn.under_sampling import RandomUnderSampler \n",
    "\n",
    "rus = RandomUnderSampler()\n",
    "X_train, y_train = rus.fit_resample(X_train, y_train)"
   ]
  },
  {
   "cell_type": "markdown",
   "id": "2c067abf",
   "metadata": {
    "papermill": {
     "duration": 0.067098,
     "end_time": "2022-02-14T10:44:11.072077",
     "exception": false,
     "start_time": "2022-02-14T10:44:11.004979",
     "status": "completed"
    },
    "tags": []
   },
   "source": [
    "On vérifie qu'on a bien équilibré l'ensemble d'apprentissage :"
   ]
  },
  {
   "cell_type": "code",
   "execution_count": 20,
   "id": "dfa3348b",
   "metadata": {
    "execution": {
     "iopub.execute_input": "2022-02-14T10:44:11.214407Z",
     "iopub.status.busy": "2022-02-14T10:44:11.213006Z",
     "iopub.status.idle": "2022-02-14T10:44:11.216409Z",
     "shell.execute_reply": "2022-02-14T10:44:11.216804Z",
     "shell.execute_reply.started": "2022-02-13T23:32:05.114646Z"
    },
    "papermill": {
     "duration": 0.077847,
     "end_time": "2022-02-14T10:44:11.216950",
     "exception": false,
     "start_time": "2022-02-14T10:44:11.139103",
     "status": "completed"
    },
    "tags": []
   },
   "outputs": [
    {
     "data": {
      "text/plain": [
       "0    405\n",
       "1    405\n",
       "Name: Class, dtype: int64"
      ]
     },
     "execution_count": 20,
     "metadata": {},
     "output_type": "execute_result"
    }
   ],
   "source": [
    "y_train.value_counts()"
   ]
  },
  {
   "cell_type": "markdown",
   "id": "128963d3",
   "metadata": {
    "papermill": {
     "duration": 0.066466,
     "end_time": "2022-02-14T10:44:11.350943",
     "exception": false,
     "start_time": "2022-02-14T10:44:11.284477",
     "status": "completed"
    },
    "tags": []
   },
   "source": [
    "On applique les forêts aléatoires sur le nouvel ensemble d'apprentissage:"
   ]
  },
  {
   "cell_type": "code",
   "execution_count": 21,
   "id": "f0981a94",
   "metadata": {
    "execution": {
     "iopub.execute_input": "2022-02-14T10:44:11.494420Z",
     "iopub.status.busy": "2022-02-14T10:44:11.493595Z",
     "iopub.status.idle": "2022-02-14T10:44:12.460166Z",
     "shell.execute_reply": "2022-02-14T10:44:12.461254Z",
     "shell.execute_reply.started": "2022-02-13T23:32:05.124393Z"
    },
    "papermill": {
     "duration": 1.042278,
     "end_time": "2022-02-14T10:44:12.461482",
     "exception": false,
     "start_time": "2022-02-14T10:44:11.419204",
     "status": "completed"
    },
    "tags": []
   },
   "outputs": [
    {
     "name": "stdout",
     "output_type": "stream",
     "text": [
      "              precision    recall  f1-score   support\n",
      "\n",
      "           0       1.00      0.97      0.99     56875\n",
      "           1       0.05      0.91      0.09        87\n",
      "\n",
      "    accuracy                           0.97     56962\n",
      "   macro avg       0.52      0.94      0.54     56962\n",
      "weighted avg       1.00      0.97      0.98     56962\n",
      "\n"
     ]
    },
    {
     "data": {
      "text/html": [
       "<div>\n",
       "<style scoped>\n",
       "    .dataframe tbody tr th:only-of-type {\n",
       "        vertical-align: middle;\n",
       "    }\n",
       "\n",
       "    .dataframe tbody tr th {\n",
       "        vertical-align: top;\n",
       "    }\n",
       "\n",
       "    .dataframe thead th {\n",
       "        text-align: right;\n",
       "    }\n",
       "</style>\n",
       "<table border=\"1\" class=\"dataframe\">\n",
       "  <thead>\n",
       "    <tr style=\"text-align: right;\">\n",
       "      <th>Prediction</th>\n",
       "      <th>0</th>\n",
       "      <th>1</th>\n",
       "      <th>All</th>\n",
       "    </tr>\n",
       "    <tr>\n",
       "      <th>Reel</th>\n",
       "      <th></th>\n",
       "      <th></th>\n",
       "      <th></th>\n",
       "    </tr>\n",
       "  </thead>\n",
       "  <tbody>\n",
       "    <tr>\n",
       "      <th>0</th>\n",
       "      <td>55277</td>\n",
       "      <td>1598</td>\n",
       "      <td>56875</td>\n",
       "    </tr>\n",
       "    <tr>\n",
       "      <th>1</th>\n",
       "      <td>8</td>\n",
       "      <td>79</td>\n",
       "      <td>87</td>\n",
       "    </tr>\n",
       "    <tr>\n",
       "      <th>All</th>\n",
       "      <td>55285</td>\n",
       "      <td>1677</td>\n",
       "      <td>56962</td>\n",
       "    </tr>\n",
       "  </tbody>\n",
       "</table>\n",
       "</div>"
      ],
      "text/plain": [
       "Prediction      0     1    All\n",
       "Reel                          \n",
       "0           55277  1598  56875\n",
       "1               8    79     87\n",
       "All         55285  1677  56962"
      ]
     },
     "execution_count": 21,
     "metadata": {},
     "output_type": "execute_result"
    }
   ],
   "source": [
    "rf = ensemble.RandomForestClassifier()\n",
    "rf.fit(X_train, y_train)\n",
    "y_rf = rf.predict(X_test)\n",
    "\n",
    "print(classification_report(y_test, y_rf))\n",
    "\n",
    "pd.crosstab(y_test, y_rf, rownames=['Reel'], colnames=['Prediction'], margins=True)"
   ]
  },
  {
   "cell_type": "markdown",
   "id": "94c3bad0",
   "metadata": {
    "papermill": {
     "duration": 0.068971,
     "end_time": "2022-02-14T10:44:12.602529",
     "exception": false,
     "start_time": "2022-02-14T10:44:12.533558",
     "status": "completed"
    },
    "tags": []
   },
   "source": [
    "On a moins de données d'apprentissage, mais les résultats sont un peu meilleurs pour la détection de fraude (77 sur 87)."
   ]
  },
  {
   "cell_type": "markdown",
   "id": "a37e72a9",
   "metadata": {
    "papermill": {
     "duration": 0.067199,
     "end_time": "2022-02-14T10:44:12.737834",
     "exception": false,
     "start_time": "2022-02-14T10:44:12.670635",
     "status": "completed"
    },
    "tags": []
   },
   "source": [
    "#### *Suréchantillonnage:*"
   ]
  },
  {
   "cell_type": "markdown",
   "id": "27bace5e",
   "metadata": {
    "papermill": {
     "duration": 0.067172,
     "end_time": "2022-02-14T10:44:12.872080",
     "exception": false,
     "start_time": "2022-02-14T10:44:12.804908",
     "status": "completed"
    },
    "tags": []
   },
   "source": [
    "On va rééquilibrer le dataset en sur-échantillonnant la classe minoritaire :"
   ]
  },
  {
   "cell_type": "markdown",
   "id": "6bdf9ad7",
   "metadata": {
    "papermill": {
     "duration": 0.067319,
     "end_time": "2022-02-14T10:44:13.006551",
     "exception": false,
     "start_time": "2022-02-14T10:44:12.939232",
     "status": "completed"
    },
    "tags": []
   },
   "source": [
    "La méthode SMOTE (Synthetic Minority Oversampling TEchnique) consiste à synthétiser des éléments pour la classe minoritaire, à partir de ceux qui existent déjà. Elle fonctionne en choisissant au hasard un point de la classe minoritaire et en calculant les k-voisins les plus proches pour ce point. Les points synthétiques sont ajoutés entre le point choisi et ses voisins."
   ]
  },
  {
   "cell_type": "markdown",
   "id": "771d41fa",
   "metadata": {
    "papermill": {
     "duration": 0.067384,
     "end_time": "2022-02-14T10:44:13.141302",
     "exception": false,
     "start_time": "2022-02-14T10:44:13.073918",
     "status": "completed"
    },
    "tags": []
   },
   "source": [
    "On crée donc de \"fausses données\" (mais \"vraisemblables\") pour l'apprentissage:"
   ]
  },
  {
   "cell_type": "code",
   "execution_count": 22,
   "id": "7f5967ed",
   "metadata": {
    "execution": {
     "iopub.execute_input": "2022-02-14T10:44:13.305785Z",
     "iopub.status.busy": "2022-02-14T10:44:13.304888Z",
     "iopub.status.idle": "2022-02-14T10:44:13.392265Z",
     "shell.execute_reply": "2022-02-14T10:44:13.391702Z",
     "shell.execute_reply.started": "2022-02-13T23:32:05.907219Z"
    },
    "papermill": {
     "duration": 0.183381,
     "end_time": "2022-02-14T10:44:13.392412",
     "exception": false,
     "start_time": "2022-02-14T10:44:13.209031",
     "status": "completed"
    },
    "tags": []
   },
   "outputs": [],
   "source": [
    "X = df.drop(['Class'], axis=1)\n",
    "y = df.Class\n",
    "X_train, X_test, y_train, y_test = train_test_split(X, y, test_size=0.2, random_state=1)"
   ]
  },
  {
   "cell_type": "code",
   "execution_count": 23,
   "id": "be93e63b",
   "metadata": {
    "execution": {
     "iopub.execute_input": "2022-02-14T10:44:13.618748Z",
     "iopub.status.busy": "2022-02-14T10:44:13.617720Z",
     "iopub.status.idle": "2022-02-14T10:44:14.115469Z",
     "shell.execute_reply": "2022-02-14T10:44:14.116104Z",
     "shell.execute_reply.started": "2022-02-13T23:32:06.028017Z"
    },
    "papermill": {
     "duration": 0.63049,
     "end_time": "2022-02-14T10:44:14.116324",
     "exception": false,
     "start_time": "2022-02-14T10:44:13.485834",
     "status": "completed"
    },
    "tags": []
   },
   "outputs": [],
   "source": [
    "from imblearn.over_sampling import SMOTE\n",
    "\n",
    "smote = SMOTE()\n",
    "X_train, y_train = smote.fit_resample(X_train, y_train)"
   ]
  },
  {
   "cell_type": "markdown",
   "id": "d8cb06bb",
   "metadata": {
    "papermill": {
     "duration": 0.121217,
     "end_time": "2022-02-14T10:44:14.366549",
     "exception": false,
     "start_time": "2022-02-14T10:44:14.245332",
     "status": "completed"
    },
    "tags": []
   },
   "source": [
    "On a bien équilibré l'ensemble d'apprentissage (en \"ajoutant\" des données) :"
   ]
  },
  {
   "cell_type": "code",
   "execution_count": 24,
   "id": "fbbf87fa",
   "metadata": {
    "execution": {
     "iopub.execute_input": "2022-02-14T10:44:14.600774Z",
     "iopub.status.busy": "2022-02-14T10:44:14.599645Z",
     "iopub.status.idle": "2022-02-14T10:44:14.606183Z",
     "shell.execute_reply": "2022-02-14T10:44:14.606763Z",
     "shell.execute_reply.started": "2022-02-13T23:32:06.368101Z"
    },
    "papermill": {
     "duration": 0.128097,
     "end_time": "2022-02-14T10:44:14.606946",
     "exception": false,
     "start_time": "2022-02-14T10:44:14.478849",
     "status": "completed"
    },
    "tags": []
   },
   "outputs": [
    {
     "data": {
      "text/plain": [
       "0    227440\n",
       "1    227440\n",
       "Name: Class, dtype: int64"
      ]
     },
     "execution_count": 24,
     "metadata": {},
     "output_type": "execute_result"
    }
   ],
   "source": [
    "y_train.value_counts()"
   ]
  },
  {
   "cell_type": "markdown",
   "id": "592ff8e6",
   "metadata": {
    "papermill": {
     "duration": 0.066637,
     "end_time": "2022-02-14T10:44:14.749565",
     "exception": false,
     "start_time": "2022-02-14T10:44:14.682928",
     "status": "completed"
    },
    "tags": []
   },
   "source": [
    "On teste les forêts aléatoires avec les données suréchantillonnées :"
   ]
  },
  {
   "cell_type": "code",
   "execution_count": 25,
   "id": "2e833523",
   "metadata": {
    "execution": {
     "iopub.execute_input": "2022-02-14T10:44:14.897141Z",
     "iopub.status.busy": "2022-02-14T10:44:14.895956Z",
     "iopub.status.idle": "2022-02-14T10:49:31.536315Z",
     "shell.execute_reply": "2022-02-14T10:49:31.535392Z",
     "shell.execute_reply.started": "2022-02-13T23:32:06.378084Z"
    },
    "papermill": {
     "duration": 316.718609,
     "end_time": "2022-02-14T10:49:31.536477",
     "exception": false,
     "start_time": "2022-02-14T10:44:14.817868",
     "status": "completed"
    },
    "tags": []
   },
   "outputs": [],
   "source": [
    "from sklearn import ensemble\n",
    "rf = ensemble.RandomForestClassifier()\n",
    "rf.fit(X_train, y_train)\n",
    "y_rf = rf.predict(X_test)"
   ]
  },
  {
   "cell_type": "code",
   "execution_count": 26,
   "id": "451ac678",
   "metadata": {
    "execution": {
     "iopub.execute_input": "2022-02-14T10:49:31.680003Z",
     "iopub.status.busy": "2022-02-14T10:49:31.679064Z",
     "iopub.status.idle": "2022-02-14T10:49:31.731038Z",
     "shell.execute_reply": "2022-02-14T10:49:31.731663Z",
     "shell.execute_reply.started": "2022-02-13T23:37:21.768268Z"
    },
    "papermill": {
     "duration": 0.126033,
     "end_time": "2022-02-14T10:49:31.731889",
     "exception": false,
     "start_time": "2022-02-14T10:49:31.605856",
     "status": "completed"
    },
    "tags": []
   },
   "outputs": [
    {
     "name": "stdout",
     "output_type": "stream",
     "text": [
      "              precision    recall  f1-score   support\n",
      "\n",
      "           0       1.00      1.00      1.00     56875\n",
      "           1       0.87      0.79      0.83        87\n",
      "\n",
      "    accuracy                           1.00     56962\n",
      "   macro avg       0.94      0.90      0.92     56962\n",
      "weighted avg       1.00      1.00      1.00     56962\n",
      "\n"
     ]
    }
   ],
   "source": [
    "print(classification_report(y_test, y_rf))"
   ]
  },
  {
   "cell_type": "code",
   "execution_count": 27,
   "id": "1b4be53d",
   "metadata": {
    "execution": {
     "iopub.execute_input": "2022-02-14T10:49:31.877506Z",
     "iopub.status.busy": "2022-02-14T10:49:31.876575Z",
     "iopub.status.idle": "2022-02-14T10:49:31.915444Z",
     "shell.execute_reply": "2022-02-14T10:49:31.915886Z",
     "shell.execute_reply.started": "2022-02-13T23:37:21.824301Z"
    },
    "papermill": {
     "duration": 0.115403,
     "end_time": "2022-02-14T10:49:31.916035",
     "exception": false,
     "start_time": "2022-02-14T10:49:31.800632",
     "status": "completed"
    },
    "tags": []
   },
   "outputs": [
    {
     "data": {
      "text/html": [
       "<div>\n",
       "<style scoped>\n",
       "    .dataframe tbody tr th:only-of-type {\n",
       "        vertical-align: middle;\n",
       "    }\n",
       "\n",
       "    .dataframe tbody tr th {\n",
       "        vertical-align: top;\n",
       "    }\n",
       "\n",
       "    .dataframe thead th {\n",
       "        text-align: right;\n",
       "    }\n",
       "</style>\n",
       "<table border=\"1\" class=\"dataframe\">\n",
       "  <thead>\n",
       "    <tr style=\"text-align: right;\">\n",
       "      <th>Prediction</th>\n",
       "      <th>0</th>\n",
       "      <th>1</th>\n",
       "      <th>All</th>\n",
       "    </tr>\n",
       "    <tr>\n",
       "      <th>Reel</th>\n",
       "      <th></th>\n",
       "      <th></th>\n",
       "      <th></th>\n",
       "    </tr>\n",
       "  </thead>\n",
       "  <tbody>\n",
       "    <tr>\n",
       "      <th>0</th>\n",
       "      <td>56865</td>\n",
       "      <td>10</td>\n",
       "      <td>56875</td>\n",
       "    </tr>\n",
       "    <tr>\n",
       "      <th>1</th>\n",
       "      <td>18</td>\n",
       "      <td>69</td>\n",
       "      <td>87</td>\n",
       "    </tr>\n",
       "    <tr>\n",
       "      <th>All</th>\n",
       "      <td>56883</td>\n",
       "      <td>79</td>\n",
       "      <td>56962</td>\n",
       "    </tr>\n",
       "  </tbody>\n",
       "</table>\n",
       "</div>"
      ],
      "text/plain": [
       "Prediction      0   1    All\n",
       "Reel                        \n",
       "0           56865  10  56875\n",
       "1              18  69     87\n",
       "All         56883  79  56962"
      ]
     },
     "execution_count": 27,
     "metadata": {},
     "output_type": "execute_result"
    }
   ],
   "source": [
    "pd.crosstab(y_test, y_rf, rownames=['Reel'], colnames=['Prediction'], margins=True)"
   ]
  },
  {
   "cell_type": "markdown",
   "id": "614a2756",
   "metadata": {
    "papermill": {
     "duration": 0.069211,
     "end_time": "2022-02-14T10:49:32.054705",
     "exception": false,
     "start_time": "2022-02-14T10:49:31.985494",
     "status": "completed"
    },
    "tags": []
   },
   "source": [
    "Les résultats sont bons mais moins que ceux des deux modèles précédents."
   ]
  },
  {
   "cell_type": "code",
   "execution_count": 28,
   "id": "87855699",
   "metadata": {
    "execution": {
     "iopub.execute_input": "2022-02-14T10:49:32.199345Z",
     "iopub.status.busy": "2022-02-14T10:49:32.198452Z",
     "iopub.status.idle": "2022-02-14T10:49:32.975108Z",
     "shell.execute_reply": "2022-02-14T10:49:32.974695Z",
     "shell.execute_reply.started": "2022-02-13T23:37:21.869264Z"
    },
    "papermill": {
     "duration": 0.851295,
     "end_time": "2022-02-14T10:49:32.975229",
     "exception": false,
     "start_time": "2022-02-14T10:49:32.123934",
     "status": "completed"
    },
    "tags": []
   },
   "outputs": [
    {
     "data": {
      "image/png": "[encoded data removed]",
      "text/plain": [
       "<Figure size 576x576 with 1 Axes>"
      ]
     },
     "metadata": {
      "needs_background": "light"
     },
     "output_type": "display_data"
    }
   ],
   "source": [
    "plot_roc_curve(rf,X_test,y_test)"
   ]
  },
  {
   "cell_type": "markdown",
   "id": "0288231f",
   "metadata": {
    "papermill": {
     "duration": 0.069573,
     "end_time": "2022-02-14T10:49:33.114886",
     "exception": false,
     "start_time": "2022-02-14T10:49:33.045313",
     "status": "completed"
    },
    "tags": []
   },
   "source": [
    "### Extreme Gradient Boosting : XGBoost avec suréchantillonage SMOTE"
   ]
  },
  {
   "cell_type": "markdown",
   "id": "5aa8ce23",
   "metadata": {
    "papermill": {
     "duration": 0.069628,
     "end_time": "2022-02-14T10:49:33.254713",
     "exception": false,
     "start_time": "2022-02-14T10:49:33.185085",
     "status": "completed"
    },
    "tags": []
   },
   "source": [
    "XGBoost utilise des arbres de décision (comme Random Forest) pour résoudre des problèmes de classification ce qui se réfère à notre problème."
   ]
  },
  {
   "cell_type": "code",
   "execution_count": 29,
   "id": "fb89f9ff",
   "metadata": {
    "execution": {
     "iopub.execute_input": "2022-02-14T10:49:33.398703Z",
     "iopub.status.busy": "2022-02-14T10:49:33.398116Z",
     "iopub.status.idle": "2022-02-14T10:54:14.886748Z",
     "shell.execute_reply": "2022-02-14T10:54:14.887183Z",
     "shell.execute_reply.started": "2022-02-13T23:37:22.678279Z"
    },
    "papermill": {
     "duration": 281.563279,
     "end_time": "2022-02-14T10:54:14.887344",
     "exception": false,
     "start_time": "2022-02-14T10:49:33.324065",
     "status": "completed"
    },
    "tags": []
   },
   "outputs": [
    {
     "name": "stderr",
     "output_type": "stream",
     "text": [
      "/opt/conda/lib/python3.7/site-packages/xgboost/sklearn.py:1224: UserWarning: The use of label encoder in XGBClassifier is deprecated and will be removed in a future release. To remove this warning, do the following: 1) Pass option use_label_encoder=False when constructing XGBClassifier object; and 2) Encode your labels (y) as integers starting with 0, i.e. 0, 1, 2, ..., [num_class - 1].\n",
      "  warnings.warn(label_encoder_deprecation_msg, UserWarning)\n"
     ]
    },
    {
     "name": "stdout",
     "output_type": "stream",
     "text": [
      "[10:49:40] WARNING: ../src/learner.cc:1115: Starting in XGBoost 1.3.0, the default evaluation metric used with the objective 'binary:logistic' was changed from 'error' to 'logloss'. Explicitly set eval_metric if you'd like to restore the old behavior.\n",
      "0.9992977774656788\n"
     ]
    }
   ],
   "source": [
    "from xgboost import XGBClassifier\n",
    "xgb = XGBClassifier()\n",
    "xgb.fit(X_train,y_train)\n",
    "print(xgb.score(X_test,y_test))"
   ]
  },
  {
   "cell_type": "code",
   "execution_count": 30,
   "id": "6de8f656",
   "metadata": {
    "execution": {
     "iopub.execute_input": "2022-02-14T10:54:15.031276Z",
     "iopub.status.busy": "2022-02-14T10:54:15.030459Z",
     "iopub.status.idle": "2022-02-14T10:54:15.200786Z",
     "shell.execute_reply": "2022-02-14T10:54:15.201316Z",
     "shell.execute_reply.started": "2022-02-13T23:42:01.827927Z"
    },
    "papermill": {
     "duration": 0.244731,
     "end_time": "2022-02-14T10:54:15.201453",
     "exception": false,
     "start_time": "2022-02-14T10:54:14.956722",
     "status": "completed"
    },
    "tags": []
   },
   "outputs": [
    {
     "name": "stdout",
     "output_type": "stream",
     "text": [
      "              precision    recall  f1-score   support\n",
      "\n",
      "           0       1.00      1.00      1.00     56875\n",
      "           1       0.75      0.80      0.78        87\n",
      "\n",
      "    accuracy                           1.00     56962\n",
      "   macro avg       0.88      0.90      0.89     56962\n",
      "weighted avg       1.00      1.00      1.00     56962\n",
      "\n"
     ]
    }
   ],
   "source": [
    "y_xgb = xgb.predict(X_test)\n",
    "\n",
    "print(classification_report(y_test, y_xgb))"
   ]
  },
  {
   "cell_type": "code",
   "execution_count": 31,
   "id": "9d339696",
   "metadata": {
    "execution": {
     "iopub.execute_input": "2022-02-14T10:54:15.345344Z",
     "iopub.status.busy": "2022-02-14T10:54:15.344562Z",
     "iopub.status.idle": "2022-02-14T10:54:15.386700Z",
     "shell.execute_reply": "2022-02-14T10:54:15.387137Z",
     "shell.execute_reply.started": "2022-02-13T23:42:02.000167Z"
    },
    "papermill": {
     "duration": 0.116452,
     "end_time": "2022-02-14T10:54:15.387293",
     "exception": false,
     "start_time": "2022-02-14T10:54:15.270841",
     "status": "completed"
    },
    "tags": []
   },
   "outputs": [
    {
     "data": {
      "text/html": [
       "<div>\n",
       "<style scoped>\n",
       "    .dataframe tbody tr th:only-of-type {\n",
       "        vertical-align: middle;\n",
       "    }\n",
       "\n",
       "    .dataframe tbody tr th {\n",
       "        vertical-align: top;\n",
       "    }\n",
       "\n",
       "    .dataframe thead th {\n",
       "        text-align: right;\n",
       "    }\n",
       "</style>\n",
       "<table border=\"1\" class=\"dataframe\">\n",
       "  <thead>\n",
       "    <tr style=\"text-align: right;\">\n",
       "      <th>Prediction</th>\n",
       "      <th>0</th>\n",
       "      <th>1</th>\n",
       "      <th>All</th>\n",
       "    </tr>\n",
       "    <tr>\n",
       "      <th>Reel</th>\n",
       "      <th></th>\n",
       "      <th></th>\n",
       "      <th></th>\n",
       "    </tr>\n",
       "  </thead>\n",
       "  <tbody>\n",
       "    <tr>\n",
       "      <th>0</th>\n",
       "      <td>56852</td>\n",
       "      <td>23</td>\n",
       "      <td>56875</td>\n",
       "    </tr>\n",
       "    <tr>\n",
       "      <th>1</th>\n",
       "      <td>17</td>\n",
       "      <td>70</td>\n",
       "      <td>87</td>\n",
       "    </tr>\n",
       "    <tr>\n",
       "      <th>All</th>\n",
       "      <td>56869</td>\n",
       "      <td>93</td>\n",
       "      <td>56962</td>\n",
       "    </tr>\n",
       "  </tbody>\n",
       "</table>\n",
       "</div>"
      ],
      "text/plain": [
       "Prediction      0   1    All\n",
       "Reel                        \n",
       "0           56852  23  56875\n",
       "1              17  70     87\n",
       "All         56869  93  56962"
      ]
     },
     "execution_count": 31,
     "metadata": {},
     "output_type": "execute_result"
    }
   ],
   "source": [
    "pd.crosstab(y_test, y_xgb, rownames=['Reel'], colnames=['Prediction'], margins=True)"
   ]
  },
  {
   "cell_type": "code",
   "execution_count": 32,
   "id": "ca3b34fc",
   "metadata": {
    "execution": {
     "iopub.execute_input": "2022-02-14T10:54:15.537166Z",
     "iopub.status.busy": "2022-02-14T10:54:15.536368Z",
     "iopub.status.idle": "2022-02-14T10:54:15.869810Z",
     "shell.execute_reply": "2022-02-14T10:54:15.869353Z",
     "shell.execute_reply.started": "2022-02-13T23:42:02.046787Z"
    },
    "papermill": {
     "duration": 0.410024,
     "end_time": "2022-02-14T10:54:15.869947",
     "exception": false,
     "start_time": "2022-02-14T10:54:15.459923",
     "status": "completed"
    },
    "tags": []
   },
   "outputs": [
    {
     "data": {
      "image/png": "[encoded data removed]",
      "text/plain": [
       "<Figure size 576x576 with 1 Axes>"
      ]
     },
     "metadata": {
      "needs_background": "light"
     },
     "output_type": "display_data"
    }
   ],
   "source": [
    "plot_roc_curve(xgb,X_test,y_test)"
   ]
  },
  {
   "cell_type": "code",
   "execution_count": 33,
   "id": "3027e69d",
   "metadata": {
    "execution": {
     "iopub.execute_input": "2022-02-14T10:54:16.021370Z",
     "iopub.status.busy": "2022-02-14T10:54:16.020576Z",
     "iopub.status.idle": "2022-02-14T10:54:16.069771Z",
     "shell.execute_reply": "2022-02-14T10:54:16.069150Z",
     "shell.execute_reply.started": "2022-02-13T23:42:02.402575Z"
    },
    "papermill": {
     "duration": 0.128137,
     "end_time": "2022-02-14T10:54:16.069922",
     "exception": false,
     "start_time": "2022-02-14T10:54:15.941785",
     "status": "completed"
    },
    "tags": []
   },
   "outputs": [
    {
     "name": "stdout",
     "output_type": "stream",
     "text": [
      "              precision    recall  f1-score   support\n",
      "\n",
      "           0       1.00      1.00      1.00     56875\n",
      "           1       0.75      0.80      0.78        87\n",
      "\n",
      "    accuracy                           1.00     56962\n",
      "   macro avg       0.88      0.90      0.89     56962\n",
      "weighted avg       1.00      1.00      1.00     56962\n",
      "\n"
     ]
    }
   ],
   "source": [
    "print(classification_report(y_test, y_xgb))"
   ]
  },
  {
   "cell_type": "markdown",
   "id": "af250fad",
   "metadata": {
    "papermill": {
     "duration": 0.071895,
     "end_time": "2022-02-14T10:54:16.214533",
     "exception": false,
     "start_time": "2022-02-14T10:54:16.142638",
     "status": "completed"
    },
    "tags": []
   },
   "source": [
    "### XGBoost pondéré"
   ]
  },
  {
   "cell_type": "markdown",
   "id": "b6b858d2",
   "metadata": {
    "papermill": {
     "duration": 0.071816,
     "end_time": "2022-02-14T10:54:16.358106",
     "exception": false,
     "start_time": "2022-02-14T10:54:16.286290",
     "status": "completed"
    },
    "tags": []
   },
   "source": [
    "On va utiliser une amélioration de la méthode XGBoost, sans suréchantillonage."
   ]
  },
  {
   "cell_type": "markdown",
   "id": "8b410fe1",
   "metadata": {
    "papermill": {
     "duration": 0.071452,
     "end_time": "2022-02-14T10:54:16.500904",
     "exception": false,
     "start_time": "2022-02-14T10:54:16.429452",
     "status": "completed"
    },
    "tags": []
   },
   "source": [
    "On reconstitue les jeux de données sans échantillonnage :"
   ]
  },
  {
   "cell_type": "code",
   "execution_count": 34,
   "id": "42a373fb",
   "metadata": {
    "execution": {
     "iopub.execute_input": "2022-02-14T10:54:16.755640Z",
     "iopub.status.busy": "2022-02-14T10:54:16.754632Z",
     "iopub.status.idle": "2022-02-14T10:54:16.902771Z",
     "shell.execute_reply": "2022-02-14T10:54:16.903927Z",
     "shell.execute_reply.started": "2022-02-13T23:42:02.458047Z"
    },
    "papermill": {
     "duration": 0.273743,
     "end_time": "2022-02-14T10:54:16.904139",
     "exception": false,
     "start_time": "2022-02-14T10:54:16.630396",
     "status": "completed"
    },
    "tags": []
   },
   "outputs": [],
   "source": [
    "X = df.drop(['Class'], axis=1)\n",
    "y = df.Class\n",
    "X_train, X_test, y_train, y_test = train_test_split(X, y, test_size=0.2, random_state=1)"
   ]
  },
  {
   "cell_type": "code",
   "execution_count": 35,
   "id": "8a628b93",
   "metadata": {
    "execution": {
     "iopub.execute_input": "2022-02-14T10:54:17.129826Z",
     "iopub.status.busy": "2022-02-14T10:54:17.129134Z",
     "iopub.status.idle": "2022-02-14T10:54:17.131845Z",
     "shell.execute_reply": "2022-02-14T10:54:17.132246Z",
     "shell.execute_reply.started": "2022-02-13T23:42:02.572138Z"
    },
    "papermill": {
     "duration": 0.108459,
     "end_time": "2022-02-14T10:54:17.132373",
     "exception": false,
     "start_time": "2022-02-14T10:54:17.023914",
     "status": "completed"
    },
    "tags": []
   },
   "outputs": [
    {
     "data": {
      "text/plain": [
       "0    284315\n",
       "1       492\n",
       "Name: Class, dtype: int64"
      ]
     },
     "execution_count": 35,
     "metadata": {},
     "output_type": "execute_result"
    }
   ],
   "source": [
    "df.Class.value_counts()"
   ]
  },
  {
   "cell_type": "markdown",
   "id": "96741caf",
   "metadata": {
    "papermill": {
     "duration": 0.071516,
     "end_time": "2022-02-14T10:54:17.275048",
     "exception": false,
     "start_time": "2022-02-14T10:54:17.203532",
     "status": "completed"
    },
    "tags": []
   },
   "source": [
    "On utilise le paramètre scale_pos_weight pour donner plus d'impact aux erreurs commises sur la classe minoritaire :"
   ]
  },
  {
   "cell_type": "code",
   "execution_count": 36,
   "id": "f1cd8cdb",
   "metadata": {
    "execution": {
     "iopub.execute_input": "2022-02-14T10:54:17.424271Z",
     "iopub.status.busy": "2022-02-14T10:54:17.423483Z",
     "iopub.status.idle": "2022-02-14T10:56:02.504020Z",
     "shell.execute_reply": "2022-02-14T10:56:02.504956Z",
     "shell.execute_reply.started": "2022-02-13T23:42:02.582511Z"
    },
    "papermill": {
     "duration": 105.15804,
     "end_time": "2022-02-14T10:56:02.505150",
     "exception": false,
     "start_time": "2022-02-14T10:54:17.347110",
     "status": "completed"
    },
    "tags": []
   },
   "outputs": [
    {
     "name": "stderr",
     "output_type": "stream",
     "text": [
      "/opt/conda/lib/python3.7/site-packages/xgboost/sklearn.py:1224: UserWarning: The use of label encoder in XGBClassifier is deprecated and will be removed in a future release. To remove this warning, do the following: 1) Pass option use_label_encoder=False when constructing XGBClassifier object; and 2) Encode your labels (y) as integers starting with 0, i.e. 0, 1, 2, ..., [num_class - 1].\n",
      "  warnings.warn(label_encoder_deprecation_msg, UserWarning)\n"
     ]
    },
    {
     "name": "stdout",
     "output_type": "stream",
     "text": [
      "[10:54:19] WARNING: ../src/learner.cc:1115: Starting in XGBoost 1.3.0, the default evaluation metric used with the objective 'binary:logistic' was changed from 'error' to 'logloss'. Explicitly set eval_metric if you'd like to restore the old behavior.\n"
     ]
    }
   ],
   "source": [
    "from xgboost import XGBClassifier\n",
    "xgb = XGBClassifier(scale_pos_weight=2278/388)\n",
    "# xgb = XGBClassifier()\n",
    "xgb.fit(X_train,y_train)\n",
    "y_xgb = xgb.predict(X_test)"
   ]
  },
  {
   "cell_type": "code",
   "execution_count": 37,
   "id": "dec3bf5c",
   "metadata": {
    "execution": {
     "iopub.execute_input": "2022-02-14T10:56:02.657658Z",
     "iopub.status.busy": "2022-02-14T10:56:02.656862Z",
     "iopub.status.idle": "2022-02-14T10:56:02.709160Z",
     "shell.execute_reply": "2022-02-14T10:56:02.709740Z",
     "shell.execute_reply.started": "2022-02-13T23:43:51.268120Z"
    },
    "papermill": {
     "duration": 0.129882,
     "end_time": "2022-02-14T10:56:02.709922",
     "exception": false,
     "start_time": "2022-02-14T10:56:02.580040",
     "status": "completed"
    },
    "tags": []
   },
   "outputs": [
    {
     "name": "stdout",
     "output_type": "stream",
     "text": [
      "              precision    recall  f1-score   support\n",
      "\n",
      "           0       1.00      1.00      1.00     56875\n",
      "           1       0.93      0.77      0.84        87\n",
      "\n",
      "    accuracy                           1.00     56962\n",
      "   macro avg       0.97      0.89      0.92     56962\n",
      "weighted avg       1.00      1.00      1.00     56962\n",
      "\n"
     ]
    }
   ],
   "source": [
    "print(classification_report(y_test, y_xgb))"
   ]
  },
  {
   "cell_type": "code",
   "execution_count": 38,
   "id": "af3bbf7c",
   "metadata": {
    "execution": {
     "iopub.execute_input": "2022-02-14T10:56:02.860961Z",
     "iopub.status.busy": "2022-02-14T10:56:02.860179Z",
     "iopub.status.idle": "2022-02-14T10:56:02.899738Z",
     "shell.execute_reply": "2022-02-14T10:56:02.899243Z",
     "shell.execute_reply.started": "2022-02-13T23:43:51.323104Z"
    },
    "papermill": {
     "duration": 0.11737,
     "end_time": "2022-02-14T10:56:02.899858",
     "exception": false,
     "start_time": "2022-02-14T10:56:02.782488",
     "status": "completed"
    },
    "tags": []
   },
   "outputs": [
    {
     "data": {
      "text/html": [
       "<div>\n",
       "<style scoped>\n",
       "    .dataframe tbody tr th:only-of-type {\n",
       "        vertical-align: middle;\n",
       "    }\n",
       "\n",
       "    .dataframe tbody tr th {\n",
       "        vertical-align: top;\n",
       "    }\n",
       "\n",
       "    .dataframe thead th {\n",
       "        text-align: right;\n",
       "    }\n",
       "</style>\n",
       "<table border=\"1\" class=\"dataframe\">\n",
       "  <thead>\n",
       "    <tr style=\"text-align: right;\">\n",
       "      <th>Prediction</th>\n",
       "      <th>0</th>\n",
       "      <th>1</th>\n",
       "      <th>All</th>\n",
       "    </tr>\n",
       "    <tr>\n",
       "      <th>Reel</th>\n",
       "      <th></th>\n",
       "      <th></th>\n",
       "      <th></th>\n",
       "    </tr>\n",
       "  </thead>\n",
       "  <tbody>\n",
       "    <tr>\n",
       "      <th>0</th>\n",
       "      <td>56870</td>\n",
       "      <td>5</td>\n",
       "      <td>56875</td>\n",
       "    </tr>\n",
       "    <tr>\n",
       "      <th>1</th>\n",
       "      <td>20</td>\n",
       "      <td>67</td>\n",
       "      <td>87</td>\n",
       "    </tr>\n",
       "    <tr>\n",
       "      <th>All</th>\n",
       "      <td>56890</td>\n",
       "      <td>72</td>\n",
       "      <td>56962</td>\n",
       "    </tr>\n",
       "  </tbody>\n",
       "</table>\n",
       "</div>"
      ],
      "text/plain": [
       "Prediction      0   1    All\n",
       "Reel                        \n",
       "0           56870   5  56875\n",
       "1              20  67     87\n",
       "All         56890  72  56962"
      ]
     },
     "execution_count": 38,
     "metadata": {},
     "output_type": "execute_result"
    }
   ],
   "source": [
    "pd.crosstab(y_test, y_xgb, rownames=['Reel'], colnames=['Prediction'], margins=True)"
   ]
  },
  {
   "cell_type": "code",
   "execution_count": 39,
   "id": "0f5e5aa0",
   "metadata": {
    "execution": {
     "iopub.execute_input": "2022-02-14T10:56:03.050414Z",
     "iopub.status.busy": "2022-02-14T10:56:03.049617Z",
     "iopub.status.idle": "2022-02-14T10:56:03.385074Z",
     "shell.execute_reply": "2022-02-14T10:56:03.385498Z",
     "shell.execute_reply.started": "2022-02-13T23:43:51.367688Z"
    },
    "papermill": {
     "duration": 0.412695,
     "end_time": "2022-02-14T10:56:03.385646",
     "exception": false,
     "start_time": "2022-02-14T10:56:02.972951",
     "status": "completed"
    },
    "tags": []
   },
   "outputs": [
    {
     "data": {
      "image/png": "[encoded data removed]",
      "text/plain": [
       "<Figure size 576x576 with 1 Axes>"
      ]
     },
     "metadata": {
      "needs_background": "light"
     },
     "output_type": "display_data"
    }
   ],
   "source": [
    "plot_roc_curve(xgb,X_test,y_test)"
   ]
  },
  {
   "cell_type": "markdown",
   "id": "4debb418",
   "metadata": {
    "papermill": {
     "duration": 0.079172,
     "end_time": "2022-02-14T10:56:03.540138",
     "exception": false,
     "start_time": "2022-02-14T10:56:03.460966",
     "status": "completed"
    },
    "tags": []
   },
   "source": [
    "En conclusion, notre problème peut être résolu grâce à plusieurs modèle qui possèdent tous des précsions équivalentes: Random Forest et XGBoost. Malgrè le deséquilibre dans notre dataset, les résultats sont assez bons, en revanche, les méthodes de sur-échantillonage et de sous-échantillonage n'améliorent pas la performance des algorithmes."
   ]
  },
  {
   "cell_type": "code",
   "execution_count": null,
   "id": "73aea534",
   "metadata": {
    "papermill": {
     "duration": 0.073936,
     "end_time": "2022-02-14T10:56:03.690917",
     "exception": false,
     "start_time": "2022-02-14T10:56:03.616981",
     "status": "completed"
    },
    "tags": []
   },
   "outputs": [],
   "source": []
  }
 ],
 "metadata": {
  "kernelspec": {
   "display_name": "Python [conda env:base] *",
   "language": "python",
   "name": "conda-base-py"
  },
  "language_info": {
   "codemirror_mode": {
    "name": "ipython",
    "version": 3
   },
   "file_extension": ".py",
   "mimetype": "text/x-python",
   "name": "python",
   "nbconvert_exporter": "python",
   "pygments_lexer": "ipython3",
   "version": "3.12.7"
  },
  "papermill": {
   "default_parameters": {},
   "duration": 954.092827,
   "end_time": "2022-02-14T10:56:04.876397",
   "environment_variables": {},
   "exception": null,
   "input_path": "__notebook__.ipynb",
   "output_path": "__notebook__.ipynb",
   "parameters": {},
   "start_time": "2022-02-14T10:40:10.783570",
   "version": "2.3.3"
  }
 },
 "nbformat": 4,
 "nbformat_minor": 5
}
