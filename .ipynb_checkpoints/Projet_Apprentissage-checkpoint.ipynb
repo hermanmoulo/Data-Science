{
 "cells": [
  {
   "cell_type": "markdown",
   "metadata": {},
   "source": [
    "# Prediction du type de cancer de sein"
   ]
  },
  {
   "cell_type": "markdown",
   "metadata": {},
   "source": [
    "# Importation des données"
   ]
  },
  {
   "cell_type": "code",
   "execution_count": 4,
   "metadata": {
    "scrolled": false
   },
   "outputs": [],
   "source": [
    "import pandas as pd\n",
    "import numpy as np\n",
    "#importer les données – utilisation de la librairie pandas\n",
    "dataset=pd.read_csv(\"breast-cancer-wisconsin.csv\",na_values=\"?\")"
   ]
  },
  {
   "cell_type": "code",
   "execution_count": 5,
   "metadata": {},
   "outputs": [
    {
     "data": {
      "text/html": [
       "<div>\n",
       "<style scoped>\n",
       "    .dataframe tbody tr th:only-of-type {\n",
       "        vertical-align: middle;\n",
       "    }\n",
       "\n",
       "    .dataframe tbody tr th {\n",
       "        vertical-align: top;\n",
       "    }\n",
       "\n",
       "    .dataframe thead th {\n",
       "        text-align: right;\n",
       "    }\n",
       "</style>\n",
       "<table border=\"1\" class=\"dataframe\">\n",
       "  <thead>\n",
       "    <tr style=\"text-align: right;\">\n",
       "      <th></th>\n",
       "      <th>Sample_code_number</th>\n",
       "      <th>Clump_Thickness</th>\n",
       "      <th>Uniformity_of_Cell_Size</th>\n",
       "      <th>Uniformity_of_Cell_Shape</th>\n",
       "      <th>Marginal_Adhesion</th>\n",
       "      <th>Single_Epithelial_Cell_Size</th>\n",
       "      <th>Bare_Nuclei</th>\n",
       "      <th>Bland_Chromatin</th>\n",
       "      <th>Normal_Nucleoli</th>\n",
       "      <th>Mtoses</th>\n",
       "      <th>Class</th>\n",
       "    </tr>\n",
       "  </thead>\n",
       "  <tbody>\n",
       "    <tr>\n",
       "      <th>0</th>\n",
       "      <td>1000025</td>\n",
       "      <td>5</td>\n",
       "      <td>1</td>\n",
       "      <td>1</td>\n",
       "      <td>1</td>\n",
       "      <td>2</td>\n",
       "      <td>1.0</td>\n",
       "      <td>3</td>\n",
       "      <td>1</td>\n",
       "      <td>1</td>\n",
       "      <td>benign</td>\n",
       "    </tr>\n",
       "    <tr>\n",
       "      <th>1</th>\n",
       "      <td>1002945</td>\n",
       "      <td>5</td>\n",
       "      <td>4</td>\n",
       "      <td>4</td>\n",
       "      <td>5</td>\n",
       "      <td>7</td>\n",
       "      <td>10.0</td>\n",
       "      <td>3</td>\n",
       "      <td>2</td>\n",
       "      <td>1</td>\n",
       "      <td>benign</td>\n",
       "    </tr>\n",
       "    <tr>\n",
       "      <th>2</th>\n",
       "      <td>1015425</td>\n",
       "      <td>3</td>\n",
       "      <td>1</td>\n",
       "      <td>1</td>\n",
       "      <td>1</td>\n",
       "      <td>2</td>\n",
       "      <td>2.0</td>\n",
       "      <td>3</td>\n",
       "      <td>1</td>\n",
       "      <td>1</td>\n",
       "      <td>benign</td>\n",
       "    </tr>\n",
       "    <tr>\n",
       "      <th>3</th>\n",
       "      <td>1016277</td>\n",
       "      <td>6</td>\n",
       "      <td>8</td>\n",
       "      <td>8</td>\n",
       "      <td>1</td>\n",
       "      <td>3</td>\n",
       "      <td>4.0</td>\n",
       "      <td>3</td>\n",
       "      <td>7</td>\n",
       "      <td>1</td>\n",
       "      <td>benign</td>\n",
       "    </tr>\n",
       "    <tr>\n",
       "      <th>4</th>\n",
       "      <td>1017023</td>\n",
       "      <td>4</td>\n",
       "      <td>1</td>\n",
       "      <td>1</td>\n",
       "      <td>3</td>\n",
       "      <td>2</td>\n",
       "      <td>1.0</td>\n",
       "      <td>3</td>\n",
       "      <td>1</td>\n",
       "      <td>1</td>\n",
       "      <td>benign</td>\n",
       "    </tr>\n",
       "  </tbody>\n",
       "</table>\n",
       "</div>"
      ],
      "text/plain": [
       "   Sample_code_number   Clump_Thickness   Uniformity_of_Cell_Size  \\\n",
       "0             1000025                 5                         1   \n",
       "1             1002945                 5                         4   \n",
       "2             1015425                 3                         1   \n",
       "3             1016277                 6                         8   \n",
       "4             1017023                 4                         1   \n",
       "\n",
       "    Uniformity_of_Cell_Shape   Marginal_Adhesion  \\\n",
       "0                          1                   1   \n",
       "1                          4                   5   \n",
       "2                          1                   1   \n",
       "3                          8                   1   \n",
       "4                          1                   3   \n",
       "\n",
       "    Single_Epithelial_Cell_Size   Bare_Nuclei   Bland_Chromatin  \\\n",
       "0                             2           1.0                 3   \n",
       "1                             7          10.0                 3   \n",
       "2                             2           2.0                 3   \n",
       "3                             3           4.0                 3   \n",
       "4                             2           1.0                 3   \n",
       "\n",
       "    Normal_Nucleoli   Mtoses    Class  \n",
       "0                 1         1  benign  \n",
       "1                 2         1  benign  \n",
       "2                 1         1  benign  \n",
       "3                 7         1  benign  \n",
       "4                 1         1  benign  "
      ]
     },
     "execution_count": 5,
     "metadata": {},
     "output_type": "execute_result"
    }
   ],
   "source": [
    "#transformation de la variable classe en une variable qualitative\n",
    "#dataset[\"Sample_code_number \"]\n",
    "dataset[dataset.columns[10:]]=dataset[dataset.columns[10:]].replace([2,4],['benign', 'malignant' ])\n",
    "dataset.head()"
   ]
  },
  {
   "cell_type": "code",
   "execution_count": 6,
   "metadata": {},
   "outputs": [
    {
     "data": {
      "text/plain": [
       "(699, 11)"
      ]
     },
     "execution_count": 6,
     "metadata": {},
     "output_type": "execute_result"
    }
   ],
   "source": [
    "#dimension de notre dataset\n",
    "dataset.shape"
   ]
  },
  {
   "cell_type": "code",
   "execution_count": 7,
   "metadata": {},
   "outputs": [
    {
     "data": {
      "text/html": [
       "<div>\n",
       "<style scoped>\n",
       "    .dataframe tbody tr th:only-of-type {\n",
       "        vertical-align: middle;\n",
       "    }\n",
       "\n",
       "    .dataframe tbody tr th {\n",
       "        vertical-align: top;\n",
       "    }\n",
       "\n",
       "    .dataframe thead th {\n",
       "        text-align: right;\n",
       "    }\n",
       "</style>\n",
       "<table border=\"1\" class=\"dataframe\">\n",
       "  <thead>\n",
       "    <tr style=\"text-align: right;\">\n",
       "      <th></th>\n",
       "      <th>Sample_code_number</th>\n",
       "      <th>Clump_Thickness</th>\n",
       "      <th>Uniformity_of_Cell_Size</th>\n",
       "      <th>Uniformity_of_Cell_Shape</th>\n",
       "      <th>Marginal_Adhesion</th>\n",
       "      <th>Single_Epithelial_Cell_Size</th>\n",
       "      <th>Bare_Nuclei</th>\n",
       "      <th>Bland_Chromatin</th>\n",
       "      <th>Normal_Nucleoli</th>\n",
       "      <th>Mtoses</th>\n",
       "    </tr>\n",
       "  </thead>\n",
       "  <tbody>\n",
       "    <tr>\n",
       "      <th>count</th>\n",
       "      <td>6.990000e+02</td>\n",
       "      <td>699.000000</td>\n",
       "      <td>699.000000</td>\n",
       "      <td>699.000000</td>\n",
       "      <td>699.000000</td>\n",
       "      <td>699.000000</td>\n",
       "      <td>683.000000</td>\n",
       "      <td>699.000000</td>\n",
       "      <td>699.000000</td>\n",
       "      <td>699.000000</td>\n",
       "    </tr>\n",
       "    <tr>\n",
       "      <th>mean</th>\n",
       "      <td>1.071704e+06</td>\n",
       "      <td>4.417740</td>\n",
       "      <td>3.134478</td>\n",
       "      <td>3.207439</td>\n",
       "      <td>2.806867</td>\n",
       "      <td>3.216023</td>\n",
       "      <td>3.544656</td>\n",
       "      <td>3.437768</td>\n",
       "      <td>2.866953</td>\n",
       "      <td>1.589413</td>\n",
       "    </tr>\n",
       "    <tr>\n",
       "      <th>std</th>\n",
       "      <td>6.170957e+05</td>\n",
       "      <td>2.815741</td>\n",
       "      <td>3.051459</td>\n",
       "      <td>2.971913</td>\n",
       "      <td>2.855379</td>\n",
       "      <td>2.214300</td>\n",
       "      <td>3.643857</td>\n",
       "      <td>2.438364</td>\n",
       "      <td>3.053634</td>\n",
       "      <td>1.715078</td>\n",
       "    </tr>\n",
       "    <tr>\n",
       "      <th>min</th>\n",
       "      <td>6.163400e+04</td>\n",
       "      <td>1.000000</td>\n",
       "      <td>1.000000</td>\n",
       "      <td>1.000000</td>\n",
       "      <td>1.000000</td>\n",
       "      <td>1.000000</td>\n",
       "      <td>1.000000</td>\n",
       "      <td>1.000000</td>\n",
       "      <td>1.000000</td>\n",
       "      <td>1.000000</td>\n",
       "    </tr>\n",
       "    <tr>\n",
       "      <th>25%</th>\n",
       "      <td>8.706885e+05</td>\n",
       "      <td>2.000000</td>\n",
       "      <td>1.000000</td>\n",
       "      <td>1.000000</td>\n",
       "      <td>1.000000</td>\n",
       "      <td>2.000000</td>\n",
       "      <td>1.000000</td>\n",
       "      <td>2.000000</td>\n",
       "      <td>1.000000</td>\n",
       "      <td>1.000000</td>\n",
       "    </tr>\n",
       "    <tr>\n",
       "      <th>50%</th>\n",
       "      <td>1.171710e+06</td>\n",
       "      <td>4.000000</td>\n",
       "      <td>1.000000</td>\n",
       "      <td>1.000000</td>\n",
       "      <td>1.000000</td>\n",
       "      <td>2.000000</td>\n",
       "      <td>1.000000</td>\n",
       "      <td>3.000000</td>\n",
       "      <td>1.000000</td>\n",
       "      <td>1.000000</td>\n",
       "    </tr>\n",
       "    <tr>\n",
       "      <th>75%</th>\n",
       "      <td>1.238298e+06</td>\n",
       "      <td>6.000000</td>\n",
       "      <td>5.000000</td>\n",
       "      <td>5.000000</td>\n",
       "      <td>4.000000</td>\n",
       "      <td>4.000000</td>\n",
       "      <td>6.000000</td>\n",
       "      <td>5.000000</td>\n",
       "      <td>4.000000</td>\n",
       "      <td>1.000000</td>\n",
       "    </tr>\n",
       "    <tr>\n",
       "      <th>max</th>\n",
       "      <td>1.345435e+07</td>\n",
       "      <td>10.000000</td>\n",
       "      <td>10.000000</td>\n",
       "      <td>10.000000</td>\n",
       "      <td>10.000000</td>\n",
       "      <td>10.000000</td>\n",
       "      <td>10.000000</td>\n",
       "      <td>10.000000</td>\n",
       "      <td>10.000000</td>\n",
       "      <td>10.000000</td>\n",
       "    </tr>\n",
       "  </tbody>\n",
       "</table>\n",
       "</div>"
      ],
      "text/plain": [
       "       Sample_code_number   Clump_Thickness   Uniformity_of_Cell_Size  \\\n",
       "count        6.990000e+02        699.000000                699.000000   \n",
       "mean         1.071704e+06          4.417740                  3.134478   \n",
       "std          6.170957e+05          2.815741                  3.051459   \n",
       "min          6.163400e+04          1.000000                  1.000000   \n",
       "25%          8.706885e+05          2.000000                  1.000000   \n",
       "50%          1.171710e+06          4.000000                  1.000000   \n",
       "75%          1.238298e+06          6.000000                  5.000000   \n",
       "max          1.345435e+07         10.000000                 10.000000   \n",
       "\n",
       "        Uniformity_of_Cell_Shape   Marginal_Adhesion  \\\n",
       "count                 699.000000          699.000000   \n",
       "mean                    3.207439            2.806867   \n",
       "std                     2.971913            2.855379   \n",
       "min                     1.000000            1.000000   \n",
       "25%                     1.000000            1.000000   \n",
       "50%                     1.000000            1.000000   \n",
       "75%                     5.000000            4.000000   \n",
       "max                    10.000000           10.000000   \n",
       "\n",
       "        Single_Epithelial_Cell_Size   Bare_Nuclei   Bland_Chromatin  \\\n",
       "count                    699.000000    683.000000        699.000000   \n",
       "mean                       3.216023      3.544656          3.437768   \n",
       "std                        2.214300      3.643857          2.438364   \n",
       "min                        1.000000      1.000000          1.000000   \n",
       "25%                        2.000000      1.000000          2.000000   \n",
       "50%                        2.000000      1.000000          3.000000   \n",
       "75%                        4.000000      6.000000          5.000000   \n",
       "max                       10.000000     10.000000         10.000000   \n",
       "\n",
       "        Normal_Nucleoli     Mtoses   \n",
       "count        699.000000  699.000000  \n",
       "mean           2.866953    1.589413  \n",
       "std            3.053634    1.715078  \n",
       "min            1.000000    1.000000  \n",
       "25%            1.000000    1.000000  \n",
       "50%            1.000000    1.000000  \n",
       "75%            4.000000    1.000000  \n",
       "max           10.000000   10.000000  "
      ]
     },
     "execution_count": 7,
     "metadata": {},
     "output_type": "execute_result"
    }
   ],
   "source": [
    "dataset.describe()"
   ]
  },
  {
   "cell_type": "markdown",
   "metadata": {},
   "source": [
    "# Expertise des données"
   ]
  },
  {
   "cell_type": "code",
   "execution_count": 8,
   "metadata": {},
   "outputs": [
    {
     "name": "stdout",
     "output_type": "stream",
     "text": [
      "(699, 11)\n"
     ]
    },
    {
     "data": {
      "text/plain": [
       "Sample_code_number               0\n",
       " Clump_Thickness                 0\n",
       " Uniformity_of_Cell_Size         0\n",
       " Uniformity_of_Cell_Shape        0\n",
       " Marginal_Adhesion               0\n",
       " Single_Epithelial_Cell_Size     0\n",
       " Bare_Nuclei                    16\n",
       " Bland_Chromatin                 0\n",
       " Normal_Nucleoli                 0\n",
       " Mtoses                          0\n",
       " Class                           0\n",
       "dtype: int64"
      ]
     },
     "execution_count": 8,
     "metadata": {},
     "output_type": "execute_result"
    }
   ],
   "source": [
    "#dimension du dataset\n",
    "print(dataset.shape)\n",
    "dataset.isnull().sum()# 16 valeurs manquantes pour la variable 7"
   ]
  },
  {
   "cell_type": "code",
   "execution_count": 9,
   "metadata": {},
   "outputs": [
    {
     "data": {
      "text/html": [
       "<div>\n",
       "<style scoped>\n",
       "    .dataframe tbody tr th:only-of-type {\n",
       "        vertical-align: middle;\n",
       "    }\n",
       "\n",
       "    .dataframe tbody tr th {\n",
       "        vertical-align: top;\n",
       "    }\n",
       "\n",
       "    .dataframe thead th {\n",
       "        text-align: right;\n",
       "    }\n",
       "</style>\n",
       "<table border=\"1\" class=\"dataframe\">\n",
       "  <thead>\n",
       "    <tr style=\"text-align: right;\">\n",
       "      <th></th>\n",
       "      <th>Sample_code_number</th>\n",
       "      <th>Clump_Thickness</th>\n",
       "      <th>Uniformity_of_Cell_Size</th>\n",
       "      <th>Uniformity_of_Cell_Shape</th>\n",
       "      <th>Marginal_Adhesion</th>\n",
       "      <th>Single_Epithelial_Cell_Size</th>\n",
       "      <th>Bare_Nuclei</th>\n",
       "      <th>Bland_Chromatin</th>\n",
       "      <th>Normal_Nucleoli</th>\n",
       "      <th>Mtoses</th>\n",
       "      <th>Class</th>\n",
       "    </tr>\n",
       "  </thead>\n",
       "  <tbody>\n",
       "    <tr>\n",
       "      <th>0</th>\n",
       "      <td>1000025</td>\n",
       "      <td>5</td>\n",
       "      <td>1</td>\n",
       "      <td>1</td>\n",
       "      <td>1</td>\n",
       "      <td>2</td>\n",
       "      <td>1.0</td>\n",
       "      <td>3</td>\n",
       "      <td>1</td>\n",
       "      <td>1</td>\n",
       "      <td>benign</td>\n",
       "    </tr>\n",
       "    <tr>\n",
       "      <th>1</th>\n",
       "      <td>1002945</td>\n",
       "      <td>5</td>\n",
       "      <td>4</td>\n",
       "      <td>4</td>\n",
       "      <td>5</td>\n",
       "      <td>7</td>\n",
       "      <td>10.0</td>\n",
       "      <td>3</td>\n",
       "      <td>2</td>\n",
       "      <td>1</td>\n",
       "      <td>benign</td>\n",
       "    </tr>\n",
       "    <tr>\n",
       "      <th>2</th>\n",
       "      <td>1015425</td>\n",
       "      <td>3</td>\n",
       "      <td>1</td>\n",
       "      <td>1</td>\n",
       "      <td>1</td>\n",
       "      <td>2</td>\n",
       "      <td>2.0</td>\n",
       "      <td>3</td>\n",
       "      <td>1</td>\n",
       "      <td>1</td>\n",
       "      <td>benign</td>\n",
       "    </tr>\n",
       "    <tr>\n",
       "      <th>3</th>\n",
       "      <td>1016277</td>\n",
       "      <td>6</td>\n",
       "      <td>8</td>\n",
       "      <td>8</td>\n",
       "      <td>1</td>\n",
       "      <td>3</td>\n",
       "      <td>4.0</td>\n",
       "      <td>3</td>\n",
       "      <td>7</td>\n",
       "      <td>1</td>\n",
       "      <td>benign</td>\n",
       "    </tr>\n",
       "    <tr>\n",
       "      <th>4</th>\n",
       "      <td>1017023</td>\n",
       "      <td>4</td>\n",
       "      <td>1</td>\n",
       "      <td>1</td>\n",
       "      <td>3</td>\n",
       "      <td>2</td>\n",
       "      <td>1.0</td>\n",
       "      <td>3</td>\n",
       "      <td>1</td>\n",
       "      <td>1</td>\n",
       "      <td>benign</td>\n",
       "    </tr>\n",
       "  </tbody>\n",
       "</table>\n",
       "</div>"
      ],
      "text/plain": [
       "   Sample_code_number   Clump_Thickness   Uniformity_of_Cell_Size  \\\n",
       "0             1000025                 5                         1   \n",
       "1             1002945                 5                         4   \n",
       "2             1015425                 3                         1   \n",
       "3             1016277                 6                         8   \n",
       "4             1017023                 4                         1   \n",
       "\n",
       "    Uniformity_of_Cell_Shape   Marginal_Adhesion  \\\n",
       "0                          1                   1   \n",
       "1                          4                   5   \n",
       "2                          1                   1   \n",
       "3                          8                   1   \n",
       "4                          1                   3   \n",
       "\n",
       "    Single_Epithelial_Cell_Size   Bare_Nuclei   Bland_Chromatin  \\\n",
       "0                             2           1.0                 3   \n",
       "1                             7          10.0                 3   \n",
       "2                             2           2.0                 3   \n",
       "3                             3           4.0                 3   \n",
       "4                             2           1.0                 3   \n",
       "\n",
       "    Normal_Nucleoli   Mtoses    Class  \n",
       "0                 1         1  benign  \n",
       "1                 2         1  benign  \n",
       "2                 1         1  benign  \n",
       "3                 7         1  benign  \n",
       "4                 1         1  benign  "
      ]
     },
     "execution_count": 9,
     "metadata": {},
     "output_type": "execute_result"
    }
   ],
   "source": [
    "#affichage des premières lignes\n",
    "dataset.head()"
   ]
  },
  {
   "cell_type": "code",
   "execution_count": 10,
   "metadata": {},
   "outputs": [
    {
     "name": "stdout",
     "output_type": "stream",
     "text": [
      "<class 'pandas.core.frame.DataFrame'>\n",
      "RangeIndex: 699 entries, 0 to 698\n",
      "Data columns (total 11 columns):\n",
      " #   Column                        Non-Null Count  Dtype  \n",
      "---  ------                        --------------  -----  \n",
      " 0   Sample_code_number            699 non-null    int64  \n",
      " 1    Clump_Thickness              699 non-null    int64  \n",
      " 2    Uniformity_of_Cell_Size      699 non-null    int64  \n",
      " 3    Uniformity_of_Cell_Shape     699 non-null    int64  \n",
      " 4    Marginal_Adhesion            699 non-null    int64  \n",
      " 5    Single_Epithelial_Cell_Size  699 non-null    int64  \n",
      " 6    Bare_Nuclei                  683 non-null    float64\n",
      " 7    Bland_Chromatin              699 non-null    int64  \n",
      " 8    Normal_Nucleoli              699 non-null    int64  \n",
      " 9    Mtoses                       699 non-null    int64  \n",
      " 10   Class                        699 non-null    object \n",
      "dtypes: float64(1), int64(9), object(1)\n",
      "memory usage: 60.2+ KB\n",
      "None\n"
     ]
    }
   ],
   "source": [
    "#information sur les variables\n",
    "print(dataset.info())"
   ]
  },
  {
   "cell_type": "code",
   "execution_count": 11,
   "metadata": {},
   "outputs": [],
   "source": [
    "#Gestion des données manquantes\n",
    "dataset.fillna(dataset.mean(), inplace=True)"
   ]
  },
  {
   "cell_type": "code",
   "execution_count": 12,
   "metadata": {},
   "outputs": [
    {
     "name": "stdout",
     "output_type": "stream",
     "text": [
      "Index(['Sample_code_number', ' Clump_Thickness', ' Uniformity_of_Cell_Size',\n",
      "       ' Uniformity_of_Cell_Shape', ' Marginal_Adhesion',\n",
      "       ' Single_Epithelial_Cell_Size', ' Bare_Nuclei', ' Bland_Chromatin',\n",
      "       ' Normal_Nucleoli', ' Mtoses ', ' Class'],\n",
      "      dtype='object')\n"
     ]
    }
   ],
   "source": [
    "#liste des variables\n",
    "print(dataset.columns)"
   ]
  },
  {
   "cell_type": "code",
   "execution_count": 13,
   "metadata": {},
   "outputs": [
    {
     "name": "stdout",
     "output_type": "stream",
     "text": [
      "benign       458\n",
      "malignant    241\n",
      "Name:  Class, dtype: int64\n"
     ]
    }
   ],
   "source": [
    "#la distribution relative\n",
    "print(dataset[dataset.columns[10]].value_counts())\n"
   ]
  },
  {
   "cell_type": "code",
   "execution_count": 14,
   "metadata": {},
   "outputs": [
    {
     "name": "stdout",
     "output_type": "stream",
     "text": [
      "benign       0.655222\n",
      "malignant    0.344778\n",
      "Name:  Class, dtype: float64\n"
     ]
    }
   ],
   "source": [
    "#distribution absolue\n",
    "print(dataset[dataset.columns[10]].value_counts(normalize=True))"
   ]
  },
  {
   "cell_type": "markdown",
   "metadata": {},
   "source": [
    "# Partition en échantillons d'apprentissage et de test"
   ]
  },
  {
   "cell_type": "code",
   "execution_count": 15,
   "metadata": {},
   "outputs": [],
   "source": [
    "#Les valeurs explicatives\n",
    "X =(dataset[dataset.columns[:-1]])"
   ]
  },
  {
   "cell_type": "code",
   "execution_count": 16,
   "metadata": {},
   "outputs": [],
   "source": [
    "#La classe\n",
    "y =dataset[dataset.columns[10:]]"
   ]
  },
  {
   "cell_type": "code",
   "execution_count": 17,
   "metadata": {},
   "outputs": [],
   "source": [
    "from sklearn.model_selection import train_test_split\n",
    "X_train,X_test,y_train,y_test=train_test_split(X,y,test_size=300,random_state=1,stratify=dataset[dataset.columns[10:]])"
   ]
  },
  {
   "cell_type": "code",
   "execution_count": 18,
   "metadata": {},
   "outputs": [
    {
     "name": "stdout",
     "output_type": "stream",
     "text": [
      "(399, 10)\n",
      "399 1\n",
      "(300, 10)\n",
      "300 1\n"
     ]
    }
   ],
   "source": [
    "#vérification des dimensions\n",
    "print(X_train.shape) \n",
    "#y_train=y_train.reshape(y_train.shape[0],1)\n",
    "print(y_train.shape[0],1)\n",
    "print(X_test.shape)\n",
    "#y_test=y_test.reshape(y_test.shape[0],1)\n",
    "print(y_test.shape[0],1)"
   ]
  },
  {
   "cell_type": "code",
   "execution_count": 19,
   "metadata": {},
   "outputs": [
    {
     "name": "stdout",
     "output_type": "stream",
     "text": [
      " Class   \n",
      "benign       0.654135\n",
      "malignant    0.345865\n",
      "dtype: float64\n"
     ]
    }
   ],
   "source": [
    "#vérification des distributions en apprentissage\n",
    "print(y_train.value_counts(normalize=True))"
   ]
  },
  {
   "cell_type": "code",
   "execution_count": 20,
   "metadata": {},
   "outputs": [
    {
     "name": "stdout",
     "output_type": "stream",
     "text": [
      " Class   \n",
      "benign       0.656667\n",
      "malignant    0.343333\n",
      "dtype: float64\n"
     ]
    }
   ],
   "source": [
    "#vérification des distributions en test\n",
    "print(y_test.value_counts(normalize=True))"
   ]
  },
  {
   "cell_type": "markdown",
   "metadata": {},
   "source": [
    "# Apprentissage d'un arbre de type CART"
   ]
  },
  {
   "cell_type": "code",
   "execution_count": 21,
   "metadata": {},
   "outputs": [],
   "source": [
    "#instanciation de l'arbre\n",
    "from sklearn.tree import DecisionTreeClassifier\n",
    "arbreFirst = DecisionTreeClassifier(min_samples_split=30,min_samples_leaf=10)"
   ]
  },
  {
   "cell_type": "markdown",
   "metadata": {},
   "source": [
    "# Visualisation de l'arbre"
   ]
  },
  {
   "cell_type": "code",
   "execution_count": 22,
   "metadata": {},
   "outputs": [
    {
     "data": {
      "text/plain": [
       "DecisionTreeClassifier(min_samples_leaf=10, min_samples_split=30)"
      ]
     },
     "execution_count": 22,
     "metadata": {},
     "output_type": "execute_result"
    }
   ],
   "source": [
    "#construction de l'arbre\n",
    "arbreFirst.fit(X_train, y_train)"
   ]
  },
  {
   "cell_type": "code",
   "execution_count": 23,
   "metadata": {},
   "outputs": [
    {
     "data": {
      "image/png": "[encoded data removed]",
      "text/plain": [
       "<IPython.core.display.Image object>"
      ]
     },
     "execution_count": 23,
     "metadata": {},
     "output_type": "execute_result"
    }
   ],
   "source": [
    "#visualisation de l'arbre\n",
    "from IPython.display import Image\n",
    "from sklearn import tree\n",
    "import pydotplus\n",
    "\n",
    "# Create DOT data\n",
    "dot_data = tree.export_graphviz(arbreFirst, out_file=None,feature_names=list(dataset.columns[:-1]),filled=True)\n",
    "\n",
    "# Draw graph\n",
    "graph = pydotplus.graph_from_dot_data(dot_data)\n",
    "\n",
    "# Show graph\n",
    "Image(graph.create_png())"
   ]
  },
  {
   "cell_type": "code",
   "execution_count": 26,
   "metadata": {},
   "outputs": [
    {
     "data": {
      "text/plain": [
       "'|---  Uniformity_of_Cell_Size <= 3.50\\n|   |---  Bare_Nuclei <= 5.50\\n|   |   |---  Normal_Nucleoli <= 2.50\\n|   |   |   |---  Clump_Thickness <= 5.50\\n|   |   |   |   |--- weights: [234.00, 0.00] class: benign\\n|   |   |   |---  Clump_Thickness >  5.50\\n|   |   |   |   |--- weights: [8.00, 2.00] class: benign\\n|   |   |---  Normal_Nucleoli >  2.50\\n|   |   |   |--- weights: [9.00, 5.00] class: benign\\n|   |---  Bare_Nuclei >  5.50\\n|   |   |--- weights: [1.00, 12.00] class: malignant\\n|---  Uniformity_of_Cell_Size >  3.50\\n|   |---  Bare_Nuclei <= 8.50\\n|   |   |---  Clump_Thickness <= 6.50\\n|   |   |   |--- weights: [8.00, 15.00] class: malignant\\n|   |   |---  Clump_Thickness >  6.50\\n|   |   |   |--- Sample_code_number <= 1200124.50\\n|   |   |   |   |--- weights: [0.00, 21.00] class: malignant\\n|   |   |   |--- Sample_code_number >  1200124.50\\n|   |   |   |   |--- weights: [1.00, 9.00] class: malignant\\n|   |---  Bare_Nuclei >  8.50\\n|   |   |--- weights: [0.00, 74.00] class: malignant\\n'"
      ]
     },
     "execution_count": 26,
     "metadata": {},
     "output_type": "execute_result"
    }
   ],
   "source": [
    "#affichage sous forme de règles\n",
    "from sklearn.tree import export_text\n",
    "tree_rules = export_text(arbreFirst,feature_names = list(dataset.columns[:-1]),show_weights=True)\n",
    "tree_rules"
   ]
  },
  {
   "cell_type": "code",
   "execution_count": 27,
   "metadata": {},
   "outputs": [
    {
     "name": "stdout",
     "output_type": "stream",
     "text": [
      "                       Variable  Importance\n",
      "2       Uniformity_of_Cell_Size    0.819165\n",
      "6                   Bare_Nuclei    0.137752\n",
      "1               Clump_Thickness    0.021660\n",
      "8               Normal_Nucleoli    0.020559\n",
      "0            Sample_code_number    0.000864\n",
      "3      Uniformity_of_Cell_Shape    0.000000\n",
      "4             Marginal_Adhesion    0.000000\n",
      "5   Single_Epithelial_Cell_Size    0.000000\n",
      "7               Bland_Chromatin    0.000000\n",
      "9                       Mtoses     0.000000\n"
     ]
    }
   ],
   "source": [
    "#importance des variables\n",
    "impVarFirst={\"Variable\":dataset.columns[:-1],\"Importance\":arbreFirst.feature_importances_}\n",
    "print(pd.DataFrame(impVarFirst).sort_values(by=\"Importance\",ascending=False))"
   ]
  },
  {
   "cell_type": "markdown",
   "metadata": {},
   "source": [
    "# Evaluation du  modèle"
   ]
  },
  {
   "cell_type": "code",
   "execution_count": 28,
   "metadata": {},
   "outputs": [
    {
     "name": "stdout",
     "output_type": "stream",
     "text": [
      "(array(['benign', 'malignant'], dtype=object), array([199, 101], dtype=int64))\n"
     ]
    }
   ],
   "source": [
    "#prédiction sur l'échantillon test\n",
    "predFirst = arbreFirst.predict(X_test)\n",
    "#distribution des predictions\n",
    "import numpy\n",
    "print(numpy.unique(predFirst,return_counts=True))"
   ]
  },
  {
   "cell_type": "markdown",
   "metadata": {},
   "source": [
    "# Matrice de confusion et mesures d'erreurs"
   ]
  },
  {
   "cell_type": "code",
   "execution_count": 29,
   "metadata": {},
   "outputs": [
    {
     "name": "stdout",
     "output_type": "stream",
     "text": [
      "[[191   6]\n",
      " [  8  95]]\n"
     ]
    }
   ],
   "source": [
    "#matrice de confusion\n",
    "from sklearn import metrics\n",
    "print(metrics.confusion_matrix(y_test,predFirst))"
   ]
  },
  {
   "cell_type": "code",
   "execution_count": 30,
   "metadata": {},
   "outputs": [
    {
     "name": "stdout",
     "output_type": "stream",
     "text": [
      "0.9533333333333334\n"
     ]
    }
   ],
   "source": [
    "#taux de reconnaissance\n",
    "print(metrics.accuracy_score(y_test,predFirst))"
   ]
  },
  {
   "cell_type": "code",
   "execution_count": 31,
   "metadata": {},
   "outputs": [
    {
     "name": "stdout",
     "output_type": "stream",
     "text": [
      "0.046666666666666634\n"
     ]
    }
   ],
   "source": [
    "#taux d'erreur \n",
    "print(1.0 - metrics.accuracy_score(y_test,predFirst))"
   ]
  },
  {
   "cell_type": "code",
   "execution_count": 32,
   "metadata": {},
   "outputs": [
    {
     "name": "stdout",
     "output_type": "stream",
     "text": [
      "0.9223300970873787\n"
     ]
    }
   ],
   "source": [
    "#rappel – sensibilité – 93/(10+93)\n",
    "print(metrics.recall_score(y_test,predFirst,pos_label='malignant'))"
   ]
  },
  {
   "cell_type": "code",
   "execution_count": 33,
   "metadata": {},
   "outputs": [
    {
     "name": "stdout",
     "output_type": "stream",
     "text": [
      "              precision    recall  f1-score   support\n",
      "\n",
      "      benign       0.96      0.97      0.96       197\n",
      "   malignant       0.94      0.92      0.93       103\n",
      "\n",
      "    accuracy                           0.95       300\n",
      "   macro avg       0.95      0.95      0.95       300\n",
      "weighted avg       0.95      0.95      0.95       300\n",
      "\n"
     ]
    }
   ],
   "source": [
    "#rapport de prédiction\n",
    "print(metrics.classification_report(y_test,predFirst))"
   ]
  },
  {
   "cell_type": "markdown",
   "metadata": {},
   "source": [
    "# Apprentissage d'un arbre de type CART"
   ]
  },
  {
   "cell_type": "code",
   "execution_count": 34,
   "metadata": {},
   "outputs": [],
   "source": [
    "arbreSecond = DecisionTreeClassifier(min_samples_split=30,min_samples_leaf=10,max_leaf_nodes=3)"
   ]
  },
  {
   "cell_type": "code",
   "execution_count": 35,
   "metadata": {},
   "outputs": [
    {
     "data": {
      "text/plain": [
       "DecisionTreeClassifier(max_leaf_nodes=3, min_samples_leaf=10,\n",
       "                       min_samples_split=30)"
      ]
     },
     "execution_count": 35,
     "metadata": {},
     "output_type": "execute_result"
    }
   ],
   "source": [
    "arbreSecond.fit(X_train, y_train)"
   ]
  },
  {
   "cell_type": "code",
   "execution_count": 36,
   "metadata": {},
   "outputs": [
    {
     "data": {
      "image/png": "[encoded data removed]",
      "text/plain": [
       "<IPython.core.display.Image object>"
      ]
     },
     "execution_count": 36,
     "metadata": {},
     "output_type": "execute_result"
    }
   ],
   "source": [
    "#visualisation de l'arbre\n",
    "from IPython.display import Image\n",
    "from sklearn import tree\n",
    "import pydotplus\n",
    "\n",
    "# Create DOT data\n",
    "dot_data = tree.export_graphviz(arbreSecond, out_file=None,feature_names=list(dataset.columns[:-1]),filled=True)\n",
    "\n",
    "# Draw graph\n",
    "graph = pydotplus.graph_from_dot_data(dot_data)\n",
    "\n",
    "# Show graph\n",
    "Image(graph.create_png())"
   ]
  },
  {
   "cell_type": "code",
   "execution_count": 37,
   "metadata": {},
   "outputs": [
    {
     "name": "stdout",
     "output_type": "stream",
     "text": [
      "(array(['benign', 'malignant'], dtype=object), array([199, 101], dtype=int64))\n"
     ]
    }
   ],
   "source": [
    "#prédiction sur l'échantillon test\n",
    "predSecond = arbreSecond.predict(X_test)\n",
    "#distribution des predictions\n",
    "import numpy\n",
    "print(numpy.unique(predSecond,return_counts=True))"
   ]
  },
  {
   "cell_type": "code",
   "execution_count": 38,
   "metadata": {},
   "outputs": [
    {
     "name": "stdout",
     "output_type": "stream",
     "text": [
      "[[191   6]\n",
      " [  8  95]]\n"
     ]
    }
   ],
   "source": [
    "#matrice de confusion\n",
    "from sklearn import metrics\n",
    "print(metrics.confusion_matrix(y_test,predSecond))"
   ]
  },
  {
   "cell_type": "code",
   "execution_count": 39,
   "metadata": {},
   "outputs": [
    {
     "name": "stdout",
     "output_type": "stream",
     "text": [
      "0.9533333333333334\n"
     ]
    }
   ],
   "source": [
    "#taux de reconnaissance\n",
    "print(metrics.accuracy_score(y_test,predSecond))"
   ]
  },
  {
   "cell_type": "code",
   "execution_count": 40,
   "metadata": {},
   "outputs": [
    {
     "name": "stdout",
     "output_type": "stream",
     "text": [
      "              precision    recall  f1-score   support\n",
      "\n",
      "      benign       0.96      0.97      0.96       197\n",
      "   malignant       0.94      0.92      0.93       103\n",
      "\n",
      "    accuracy                           0.95       300\n",
      "   macro avg       0.95      0.95      0.95       300\n",
      "weighted avg       0.95      0.95      0.95       300\n",
      "\n"
     ]
    }
   ],
   "source": [
    "#rapport de prédiction\n",
    "print(metrics.classification_report(y_test,predSecond))"
   ]
  },
  {
   "cell_type": "code",
   "execution_count": null,
   "metadata": {},
   "outputs": [],
   "source": []
  }
 ],
 "metadata": {
  "kernelspec": {
   "display_name": "Python 3 (ipykernel)",
   "language": "python",
   "name": "python3"
  },
  "language_info": {
   "codemirror_mode": {
    "name": "ipython",
    "version": 3
   },
   "file_extension": ".py",
   "mimetype": "text/x-python",
   "name": "python",
   "nbconvert_exporter": "python",
   "pygments_lexer": "ipython3",
   "version": "3.9.13"
  }
 },
 "nbformat": 4,
 "nbformat_minor": 2
}
